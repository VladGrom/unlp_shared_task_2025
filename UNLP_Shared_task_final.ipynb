{
 "nbformat": 4,
 "nbformat_minor": 0,
 "metadata": {
  "colab": {
   "provenance": [],
   "gpuType": "T4"
  },
  "kernelspec": {
   "name": "python3",
   "display_name": "Python 3 (ipykernel)",
   "language": "python"
  },
  "language_info": {
   "name": "python"
  },
  "accelerator": "GPU"
 },
 "cells": [
  {
   "cell_type": "code",
   "metadata": {
    "id": "I--u1BW4-l6Z",
    "ExecuteTime": {
     "end_time": "2025-03-29T14:23:17.971978Z",
     "start_time": "2025-03-29T14:23:06.733055Z"
    }
   },
   "source": [
    "import pandas as pd\n",
    "import matplotlib.pyplot as plt\n",
    "import ast\n",
    "from sklearn.preprocessing import MultiLabelBinarizer\n",
    "from sklearn.model_selection import train_test_split\n",
    "from transformers import AutoModelForSequenceClassification, Trainer, TrainingArguments, DataCollatorWithPadding\n",
    "from transformers import AutoTokenizer\n",
    "from datasets import Dataset\n",
    "from peft import LoraConfig, get_peft_model, TaskType\n",
    "from iterstrat.ml_stratifiers import MultilabelStratifiedShuffleSplit\n",
    "from datasets import concatenate_datasets\n",
    "import torch\n",
    "import torch.nn as nn\n",
    "import numpy as np\n",
    "import re\n",
    "from sklearn.metrics import f1_score\n",
    "\n",
    "pd.options.display.max_colwidth = 100"
   ],
   "outputs": [],
   "execution_count": 1
  },
  {
   "cell_type": "code",
   "source": "df = pd.read_parquet('./data/train.parquet')",
   "metadata": {
    "id": "3k6L5bsr-6uF",
    "ExecuteTime": {
     "end_time": "2025-03-29T14:23:18.241497Z",
     "start_time": "2025-03-29T14:23:17.971978Z"
    }
   },
   "outputs": [],
   "execution_count": 2
  },
  {
   "metadata": {},
   "cell_type": "markdown",
   "source": "# Exploration data analysis"
  },
  {
   "cell_type": "code",
   "source": [
    "df.dtypes"
   ],
   "metadata": {
    "colab": {
     "base_uri": "https://localhost:8080/",
     "height": 272
    },
    "id": "G7f7RvnLDGbr",
    "outputId": "5d348391-4954-420c-f4ff-14d99a28fcef",
    "ExecuteTime": {
     "end_time": "2025-03-29T14:23:18.788228Z",
     "start_time": "2025-03-29T14:23:18.566424Z"
    }
   },
   "outputs": [
    {
     "data": {
      "text/plain": [
       "id               object\n",
       "content          object\n",
       "lang             object\n",
       "manipulative       bool\n",
       "techniques       object\n",
       "trigger_words    object\n",
       "dtype: object"
      ]
     },
     "execution_count": 3,
     "metadata": {},
     "output_type": "execute_result"
    }
   ],
   "execution_count": 3
  },
  {
   "cell_type": "code",
   "source": [
    "# Display basic dataset information\n",
    "print(\"Dataset Shape:\", df.shape)\n",
    "print(\"Dataset Columns:\", df.columns.tolist())\n",
    "df.head()"
   ],
   "metadata": {
    "colab": {
     "base_uri": "https://localhost:8080/",
     "height": 1000
    },
    "id": "P0LBWghJBVCZ",
    "outputId": "0cc8c4e0-57a8-4ef9-c0e0-ad26102a2c50",
    "ExecuteTime": {
     "end_time": "2025-03-29T14:23:19.118477Z",
     "start_time": "2025-03-29T14:23:18.856502Z"
    }
   },
   "outputs": [
    {
     "name": "stdout",
     "output_type": "stream",
     "text": [
      "Dataset Shape: (3822, 6)\n",
      "Dataset Columns: ['id', 'content', 'lang', 'manipulative', 'techniques', 'trigger_words']\n"
     ]
    },
    {
     "data": {
      "text/plain": [
       "                                     id  \\\n",
       "0  0bb0c7fa-101b-4583-a5f9-9d503339141c   \n",
       "1  7159f802-6f99-4e9d-97bd-6f565a4a0fae   \n",
       "2  e6a427f1-211f-405f-bd8b-70798458d656   \n",
       "3  1647a352-4cd3-40f6-bfa1-d87d42e34eea   \n",
       "4  9c01de00-841f-4b50-9407-104e9ffb03bf   \n",
       "\n",
       "                                                                                               content  \\\n",
       "0  Новий огляд мапи DeepState від російського військового експерта, кухара путіна 2 розряду, спеціа...   \n",
       "1  Недавно 95 квартал жёстко поглумился над русскими баранами, которые притворяются украинцами. Про...   \n",
       "2  🤩\\nТим часом йде евакуація Бєлгородського автовокзалу - він оточений з невідомих простій русні п...   \n",
       "3  В Україні найближчим часом мають намір посилити відповідальність за ухилення від мобілізації та ...   \n",
       "4  Расчёты 122-мм САУ 2С1 \"Гвоздика\" 132-й бригады 1-го АК 8-й армии ЮВО ВС России точным огнем, ко...   \n",
       "\n",
       "  lang  manipulative                         techniques  \\\n",
       "0   uk          True        [euphoria, loaded_language]   \n",
       "1   ru          True  [loaded_language, cherry_picking]   \n",
       "2   uk          True        [loaded_language, euphoria]   \n",
       "3   uk         False                               None   \n",
       "4   ru          True                  [loaded_language]   \n",
       "\n",
       "                                   trigger_words  \n",
       "0    [[27, 63], [65, 88], [90, 183], [186, 308]]  \n",
       "1  [[0, 40], [123, 137], [180, 251], [253, 274]]  \n",
       "2                                    [[55, 100]]  \n",
       "3                                           None  \n",
       "4                                   [[114, 144]]  "
      ],
      "text/html": [
       "<div>\n",
       "<style scoped>\n",
       "    .dataframe tbody tr th:only-of-type {\n",
       "        vertical-align: middle;\n",
       "    }\n",
       "\n",
       "    .dataframe tbody tr th {\n",
       "        vertical-align: top;\n",
       "    }\n",
       "\n",
       "    .dataframe thead th {\n",
       "        text-align: right;\n",
       "    }\n",
       "</style>\n",
       "<table border=\"1\" class=\"dataframe\">\n",
       "  <thead>\n",
       "    <tr style=\"text-align: right;\">\n",
       "      <th></th>\n",
       "      <th>id</th>\n",
       "      <th>content</th>\n",
       "      <th>lang</th>\n",
       "      <th>manipulative</th>\n",
       "      <th>techniques</th>\n",
       "      <th>trigger_words</th>\n",
       "    </tr>\n",
       "  </thead>\n",
       "  <tbody>\n",
       "    <tr>\n",
       "      <th>0</th>\n",
       "      <td>0bb0c7fa-101b-4583-a5f9-9d503339141c</td>\n",
       "      <td>Новий огляд мапи DeepState від російського військового експерта, кухара путіна 2 розряду, спеціа...</td>\n",
       "      <td>uk</td>\n",
       "      <td>True</td>\n",
       "      <td>[euphoria, loaded_language]</td>\n",
       "      <td>[[27, 63], [65, 88], [90, 183], [186, 308]]</td>\n",
       "    </tr>\n",
       "    <tr>\n",
       "      <th>1</th>\n",
       "      <td>7159f802-6f99-4e9d-97bd-6f565a4a0fae</td>\n",
       "      <td>Недавно 95 квартал жёстко поглумился над русскими баранами, которые притворяются украинцами. Про...</td>\n",
       "      <td>ru</td>\n",
       "      <td>True</td>\n",
       "      <td>[loaded_language, cherry_picking]</td>\n",
       "      <td>[[0, 40], [123, 137], [180, 251], [253, 274]]</td>\n",
       "    </tr>\n",
       "    <tr>\n",
       "      <th>2</th>\n",
       "      <td>e6a427f1-211f-405f-bd8b-70798458d656</td>\n",
       "      <td>🤩\\nТим часом йде евакуація Бєлгородського автовокзалу - він оточений з невідомих простій русні п...</td>\n",
       "      <td>uk</td>\n",
       "      <td>True</td>\n",
       "      <td>[loaded_language, euphoria]</td>\n",
       "      <td>[[55, 100]]</td>\n",
       "    </tr>\n",
       "    <tr>\n",
       "      <th>3</th>\n",
       "      <td>1647a352-4cd3-40f6-bfa1-d87d42e34eea</td>\n",
       "      <td>В Україні найближчим часом мають намір посилити відповідальність за ухилення від мобілізації та ...</td>\n",
       "      <td>uk</td>\n",
       "      <td>False</td>\n",
       "      <td>None</td>\n",
       "      <td>None</td>\n",
       "    </tr>\n",
       "    <tr>\n",
       "      <th>4</th>\n",
       "      <td>9c01de00-841f-4b50-9407-104e9ffb03bf</td>\n",
       "      <td>Расчёты 122-мм САУ 2С1 \"Гвоздика\" 132-й бригады 1-го АК 8-й армии ЮВО ВС России точным огнем, ко...</td>\n",
       "      <td>ru</td>\n",
       "      <td>True</td>\n",
       "      <td>[loaded_language]</td>\n",
       "      <td>[[114, 144]]</td>\n",
       "    </tr>\n",
       "  </tbody>\n",
       "</table>\n",
       "</div>"
      ]
     },
     "execution_count": 4,
     "metadata": {},
     "output_type": "execute_result"
    }
   ],
   "execution_count": 4
  },
  {
   "cell_type": "code",
   "source": [
    "def extract_unique_techniques(df):\n",
    "    # Check if 'techniques' column exists\n",
    "    if 'techniques' not in df.columns:\n",
    "        raise ValueError(\"DataFrame must contain a 'techniques' column\")\n",
    "\n",
    "    # Initialize an empty set to store unique techniques\n",
    "    unique_techniques = set()\n",
    "\n",
    "    # Iterate through each row\n",
    "    for techniques_array in df['techniques']:\n",
    "        # Skip None or NaN values\n",
    "        if techniques_array is None or (isinstance(techniques_array, float) and np.isnan(techniques_array)):\n",
    "            continue\n",
    "\n",
    "        # Add each technique to the set\n",
    "        for technique in techniques_array:\n",
    "            unique_techniques.add(technique)\n",
    "\n",
    "    # Convert set to sorted list\n",
    "    return sorted(list(unique_techniques))"
   ],
   "metadata": {
    "id": "3mnKBaDrtWfy",
    "ExecuteTime": {
     "end_time": "2025-03-29T14:23:19.478039Z",
     "start_time": "2025-03-29T14:23:19.199649Z"
    }
   },
   "outputs": [],
   "execution_count": 5
  },
  {
   "cell_type": "code",
   "source": [
    "technique_list = extract_unique_techniques(df)\n",
    "technique_list"
   ],
   "metadata": {
    "colab": {
     "base_uri": "https://localhost:8080/"
    },
    "id": "75w7RLk-ssir",
    "outputId": "354dda3d-7bb2-48d2-977e-b2c7683437f9",
    "ExecuteTime": {
     "end_time": "2025-03-29T14:23:19.898589Z",
     "start_time": "2025-03-29T14:23:19.621736Z"
    }
   },
   "outputs": [
    {
     "data": {
      "text/plain": [
       "['appeal_to_fear',\n",
       " 'bandwagon',\n",
       " 'cherry_picking',\n",
       " 'cliche',\n",
       " 'euphoria',\n",
       " 'fud',\n",
       " 'glittering_generalities',\n",
       " 'loaded_language',\n",
       " 'straw_man',\n",
       " 'whataboutism']"
      ]
     },
     "execution_count": 6,
     "metadata": {},
     "output_type": "execute_result"
    }
   ],
   "execution_count": 6
  },
  {
   "metadata": {
    "ExecuteTime": {
     "end_time": "2025-03-29T14:23:20.225549Z",
     "start_time": "2025-03-29T14:23:19.961964Z"
    }
   },
   "cell_type": "code",
   "source": [
    "df_exploded = df.explode('techniques')\n",
    "df_exploded['techniques'].value_counts()"
   ],
   "outputs": [
    {
     "data": {
      "text/plain": [
       "techniques\n",
       "loaded_language            1973\n",
       "cherry_picking              512\n",
       "glittering_generalities     483\n",
       "cliche                      463\n",
       "euphoria                    462\n",
       "fud                         385\n",
       "appeal_to_fear              300\n",
       "whataboutism                158\n",
       "bandwagon                   157\n",
       "straw_man                   138\n",
       "Name: count, dtype: int64"
      ]
     },
     "execution_count": 7,
     "metadata": {},
     "output_type": "execute_result"
    }
   ],
   "execution_count": 7
  },
  {
   "cell_type": "code",
   "source": [
    "# Display detailed information about the dataset\n",
    "df.info()\n",
    "\n",
    "# Check for missing values\n",
    "print(\"\\nMissing Values:\")\n",
    "print(df.isnull().sum())"
   ],
   "metadata": {
    "colab": {
     "base_uri": "https://localhost:8080/"
    },
    "id": "CSVyjrQ_BbGX",
    "outputId": "043c2cc7-08f5-409a-9db4-55a35fc72545",
    "ExecuteTime": {
     "end_time": "2025-03-29T14:23:20.475777Z",
     "start_time": "2025-03-29T14:23:20.270332Z"
    }
   },
   "outputs": [
    {
     "name": "stdout",
     "output_type": "stream",
     "text": [
      "<class 'pandas.core.frame.DataFrame'>\n",
      "RangeIndex: 3822 entries, 0 to 3821\n",
      "Data columns (total 6 columns):\n",
      " #   Column         Non-Null Count  Dtype \n",
      "---  ------         --------------  ----- \n",
      " 0   id             3822 non-null   object\n",
      " 1   content        3822 non-null   object\n",
      " 2   lang           3822 non-null   object\n",
      " 3   manipulative   3822 non-null   bool  \n",
      " 4   techniques     2589 non-null   object\n",
      " 5   trigger_words  2589 non-null   object\n",
      "dtypes: bool(1), object(5)\n",
      "memory usage: 153.2+ KB\n",
      "\n",
      "Missing Values:\n",
      "id                  0\n",
      "content             0\n",
      "lang                0\n",
      "manipulative        0\n",
      "techniques       1233\n",
      "trigger_words    1233\n",
      "dtype: int64\n"
     ]
    }
   ],
   "execution_count": 8
  },
  {
   "cell_type": "code",
   "source": [
    "# Plot the distribution of languages in the dataset\n",
    "plt.figure(figsize=(6,4))\n",
    "df['lang'].value_counts().plot(kind='bar')\n",
    "plt.title('Distribution of Languages')\n",
    "plt.xlabel('Language')\n",
    "plt.ylabel('Count')\n",
    "plt.show()\n",
    "\n",
    "# Plot the distribution of the manipulative flag\n",
    "plt.figure(figsize=(6,4))\n",
    "df['manipulative'].value_counts().plot(kind='bar')\n",
    "plt.title('Distribution of Manipulative Flag')\n",
    "plt.xlabel('Manipulative')\n",
    "plt.ylabel('Count')\n",
    "plt.show()\n"
   ],
   "metadata": {
    "colab": {
     "base_uri": "https://localhost:8080/",
     "height": 827
    },
    "id": "-AwhBGMzBdnE",
    "outputId": "8a206c38-202e-4df2-8a97-a3b86fb218f0",
    "ExecuteTime": {
     "end_time": "2025-03-29T14:23:21.007115Z",
     "start_time": "2025-03-29T14:23:20.524132Z"
    }
   },
   "outputs": [
    {
     "data": {
      "text/plain": [
       "<Figure size 600x400 with 0 Axes>"
      ]
     },
     "execution_count": 9,
     "metadata": {},
     "output_type": "execute_result"
    },
    {
     "data": {
      "text/plain": [
       "<Axes: xlabel='lang'>"
      ]
     },
     "execution_count": 9,
     "metadata": {},
     "output_type": "execute_result"
    },
    {
     "data": {
      "text/plain": [
       "Text(0.5, 1.0, 'Distribution of Languages')"
      ]
     },
     "execution_count": 9,
     "metadata": {},
     "output_type": "execute_result"
    },
    {
     "data": {
      "text/plain": [
       "Text(0.5, 0, 'Language')"
      ]
     },
     "execution_count": 9,
     "metadata": {},
     "output_type": "execute_result"
    },
    {
     "data": {
      "text/plain": [
       "Text(0, 0.5, 'Count')"
      ]
     },
     "execution_count": 9,
     "metadata": {},
     "output_type": "execute_result"
    },
    {
     "data": {
      "text/plain": [
       "<Figure size 600x400 with 1 Axes>"
      ],
      "image/png": "[encoded data removed]"
     },
     "metadata": {},
     "output_type": "display_data"
    },
    {
     "data": {
      "text/plain": [
       "<Figure size 600x400 with 0 Axes>"
      ]
     },
     "execution_count": 9,
     "metadata": {},
     "output_type": "execute_result"
    },
    {
     "data": {
      "text/plain": [
       "<Axes: xlabel='manipulative'>"
      ]
     },
     "execution_count": 9,
     "metadata": {},
     "output_type": "execute_result"
    },
    {
     "data": {
      "text/plain": [
       "Text(0.5, 1.0, 'Distribution of Manipulative Flag')"
      ]
     },
     "execution_count": 9,
     "metadata": {},
     "output_type": "execute_result"
    },
    {
     "data": {
      "text/plain": [
       "Text(0.5, 0, 'Manipulative')"
      ]
     },
     "execution_count": 9,
     "metadata": {},
     "output_type": "execute_result"
    },
    {
     "data": {
      "text/plain": [
       "Text(0, 0.5, 'Count')"
      ]
     },
     "execution_count": 9,
     "metadata": {},
     "output_type": "execute_result"
    },
    {
     "data": {
      "text/plain": [
       "<Figure size 600x400 with 1 Axes>"
      ],
      "image/png": "[encoded data removed]"
     },
     "metadata": {},
     "output_type": "display_data"
    }
   ],
   "execution_count": 9
  },
  {
   "metadata": {},
   "cell_type": "markdown",
   "source": "## Try to understand more about text"
  },
  {
   "metadata": {},
   "cell_type": "markdown",
   "source": "### Text cleaning"
  },
  {
   "metadata": {
    "ExecuteTime": {
     "end_time": "2025-03-29T14:23:21.381833Z",
     "start_time": "2025-03-29T14:23:21.038781Z"
    }
   },
   "cell_type": "code",
   "source": [
    "# Define a function for basic text cleaning\n",
    "def clean_text(text):\n",
    "    # Remove newline characters and extra spaces\n",
    "    text = (\n",
    "        text\n",
    "        .replace('\\n', ' ')\n",
    "        .replace(\"&nbsp;\", \" \")\n",
    "        .replace(u'\\u00A0', \" \")\n",
    "        .replace(\"  \", \" \")\n",
    "        .strip()\n",
    "    )\n",
    "    text = re.sub(r'\\s+', ' ', text)\n",
    "    # You can add additional cleaning steps (e.g., removing URLs, punctuation) as needed\n",
    "    return text\n",
    "\n",
    "# Apply cleaning to the 'content' column and create a new column 'clean_content'\n",
    "df['clean_content'] = df['content'].apply(clean_text)\n",
    "\n",
    "# Show an example of cleaned content\n",
    "print(\"Example of Cleaned Content (Row 0):\")\n",
    "df[['content','clean_content']]"
   ],
   "outputs": [
    {
     "name": "stdout",
     "output_type": "stream",
     "text": [
      "Example of Cleaned Content (Row 0):\n"
     ]
    },
    {
     "data": {
      "text/plain": [
       "                                                                                                  content  \\\n",
       "0     Новий огляд мапи DeepState від російського військового експерта, кухара путіна 2 розряду, спеціа...   \n",
       "1     Недавно 95 квартал жёстко поглумился над русскими баранами, которые притворяются украинцами. Про...   \n",
       "2     🤩\\nТим часом йде евакуація Бєлгородського автовокзалу - він оточений з невідомих простій русні п...   \n",
       "3     В Україні найближчим часом мають намір посилити відповідальність за ухилення від мобілізації та ...   \n",
       "4     Расчёты 122-мм САУ 2С1 \"Гвоздика\" 132-й бригады 1-го АК 8-й армии ЮВО ВС России точным огнем, ко...   \n",
       "...                                                                                                   ...   \n",
       "3817  🤭\\nросія ставить ППО на дахах адмінбудівель\\nросійське керівництво перелякане, що військова пром...   \n",
       "3818  К слову, Бабий не просто «ларечник», а и человек народного депутата СН Дубнова, а Дубнов - родст...   \n",
       "3819  Глава ФСБ Бортников ответил журналистам, почему те, кто совершает преступления против России и р...   \n",
       "3820  В ДНР завозили наркотики в бытовой технике\\nОб этом сообщили в пресс-службе МВД по ДНР.\\nУ предп...   \n",
       "3821  Ще вчора ти \\nпогоджував\\n своєму корешу розпил сотень мільйонів гривень під час окупації. А сьо...   \n",
       "\n",
       "                                                                                            clean_content  \n",
       "0     Новий огляд мапи DeepState від російського військового експерта, кухара путіна 2 розряду, спеціа...  \n",
       "1     Недавно 95 квартал жёстко поглумился над русскими баранами, которые притворяются украинцами. Про...  \n",
       "2     🤩 Тим часом йде евакуація Бєлгородського автовокзалу - він оточений з невідомих простій русні пр...  \n",
       "3     В Україні найближчим часом мають намір посилити відповідальність за ухилення від мобілізації та ...  \n",
       "4     Расчёты 122-мм САУ 2С1 \"Гвоздика\" 132-й бригады 1-го АК 8-й армии ЮВО ВС России точным огнем, ко...  \n",
       "...                                                                                                   ...  \n",
       "3817  🤭 росія ставить ППО на дахах адмінбудівель російське керівництво перелякане, що військова промис...  \n",
       "3818  К слову, Бабий не просто «ларечник», а и человек народного депутата СН Дубнова, а Дубнов - родст...  \n",
       "3819  Глава ФСБ Бортников ответил журналистам, почему те, кто совершает преступления против России и р...  \n",
       "3820  В ДНР завозили наркотики в бытовой технике Об этом сообщили в пресс-службе МВД по ДНР. У предпри...  \n",
       "3821  Ще вчора ти погоджував своєму корешу розпил сотень мільйонів гривень під час окупації. А сьогодн...  \n",
       "\n",
       "[3822 rows x 2 columns]"
      ],
      "text/html": [
       "<div>\n",
       "<style scoped>\n",
       "    .dataframe tbody tr th:only-of-type {\n",
       "        vertical-align: middle;\n",
       "    }\n",
       "\n",
       "    .dataframe tbody tr th {\n",
       "        vertical-align: top;\n",
       "    }\n",
       "\n",
       "    .dataframe thead th {\n",
       "        text-align: right;\n",
       "    }\n",
       "</style>\n",
       "<table border=\"1\" class=\"dataframe\">\n",
       "  <thead>\n",
       "    <tr style=\"text-align: right;\">\n",
       "      <th></th>\n",
       "      <th>content</th>\n",
       "      <th>clean_content</th>\n",
       "    </tr>\n",
       "  </thead>\n",
       "  <tbody>\n",
       "    <tr>\n",
       "      <th>0</th>\n",
       "      <td>Новий огляд мапи DeepState від російського військового експерта, кухара путіна 2 розряду, спеціа...</td>\n",
       "      <td>Новий огляд мапи DeepState від російського військового експерта, кухара путіна 2 розряду, спеціа...</td>\n",
       "    </tr>\n",
       "    <tr>\n",
       "      <th>1</th>\n",
       "      <td>Недавно 95 квартал жёстко поглумился над русскими баранами, которые притворяются украинцами. Про...</td>\n",
       "      <td>Недавно 95 квартал жёстко поглумился над русскими баранами, которые притворяются украинцами. Про...</td>\n",
       "    </tr>\n",
       "    <tr>\n",
       "      <th>2</th>\n",
       "      <td>🤩\\nТим часом йде евакуація Бєлгородського автовокзалу - він оточений з невідомих простій русні п...</td>\n",
       "      <td>🤩 Тим часом йде евакуація Бєлгородського автовокзалу - він оточений з невідомих простій русні пр...</td>\n",
       "    </tr>\n",
       "    <tr>\n",
       "      <th>3</th>\n",
       "      <td>В Україні найближчим часом мають намір посилити відповідальність за ухилення від мобілізації та ...</td>\n",
       "      <td>В Україні найближчим часом мають намір посилити відповідальність за ухилення від мобілізації та ...</td>\n",
       "    </tr>\n",
       "    <tr>\n",
       "      <th>4</th>\n",
       "      <td>Расчёты 122-мм САУ 2С1 \"Гвоздика\" 132-й бригады 1-го АК 8-й армии ЮВО ВС России точным огнем, ко...</td>\n",
       "      <td>Расчёты 122-мм САУ 2С1 \"Гвоздика\" 132-й бригады 1-го АК 8-й армии ЮВО ВС России точным огнем, ко...</td>\n",
       "    </tr>\n",
       "    <tr>\n",
       "      <th>...</th>\n",
       "      <td>...</td>\n",
       "      <td>...</td>\n",
       "    </tr>\n",
       "    <tr>\n",
       "      <th>3817</th>\n",
       "      <td>🤭\\nросія ставить ППО на дахах адмінбудівель\\nросійське керівництво перелякане, що військова пром...</td>\n",
       "      <td>🤭 росія ставить ППО на дахах адмінбудівель російське керівництво перелякане, що військова промис...</td>\n",
       "    </tr>\n",
       "    <tr>\n",
       "      <th>3818</th>\n",
       "      <td>К слову, Бабий не просто «ларечник», а и человек народного депутата СН Дубнова, а Дубнов - родст...</td>\n",
       "      <td>К слову, Бабий не просто «ларечник», а и человек народного депутата СН Дубнова, а Дубнов - родст...</td>\n",
       "    </tr>\n",
       "    <tr>\n",
       "      <th>3819</th>\n",
       "      <td>Глава ФСБ Бортников ответил журналистам, почему те, кто совершает преступления против России и р...</td>\n",
       "      <td>Глава ФСБ Бортников ответил журналистам, почему те, кто совершает преступления против России и р...</td>\n",
       "    </tr>\n",
       "    <tr>\n",
       "      <th>3820</th>\n",
       "      <td>В ДНР завозили наркотики в бытовой технике\\nОб этом сообщили в пресс-службе МВД по ДНР.\\nУ предп...</td>\n",
       "      <td>В ДНР завозили наркотики в бытовой технике Об этом сообщили в пресс-службе МВД по ДНР. У предпри...</td>\n",
       "    </tr>\n",
       "    <tr>\n",
       "      <th>3821</th>\n",
       "      <td>Ще вчора ти \\nпогоджував\\n своєму корешу розпил сотень мільйонів гривень під час окупації. А сьо...</td>\n",
       "      <td>Ще вчора ти погоджував своєму корешу розпил сотень мільйонів гривень під час окупації. А сьогодн...</td>\n",
       "    </tr>\n",
       "  </tbody>\n",
       "</table>\n",
       "<p>3822 rows × 2 columns</p>\n",
       "</div>"
      ]
     },
     "execution_count": 10,
     "metadata": {},
     "output_type": "execute_result"
    }
   ],
   "execution_count": 10
  },
  {
   "metadata": {},
   "cell_type": "markdown",
   "source": "### Text **length** distribution"
  },
  {
   "metadata": {
    "ExecuteTime": {
     "end_time": "2025-03-29T14:23:21.634115Z",
     "start_time": "2025-03-29T14:23:21.429724Z"
    }
   },
   "cell_type": "code",
   "source": "df['content'].str.len().describe()",
   "outputs": [
    {
     "data": {
      "text/plain": [
       "count    3822.000000\n",
       "mean      607.712716\n",
       "std       606.421275\n",
       "min       101.000000\n",
       "25%       229.250000\n",
       "50%       415.000000\n",
       "75%       762.000000\n",
       "max      4124.000000\n",
       "Name: content, dtype: float64"
      ]
     },
     "execution_count": 11,
     "metadata": {},
     "output_type": "execute_result"
    }
   ],
   "execution_count": 11
  },
  {
   "metadata": {
    "ExecuteTime": {
     "end_time": "2025-03-29T14:23:22.047180Z",
     "start_time": "2025-03-29T14:23:21.681512Z"
    }
   },
   "cell_type": "code",
   "source": "df['content'].str.len().hist(bins=20)",
   "outputs": [
    {
     "data": {
      "text/plain": [
       "<Axes: >"
      ]
     },
     "execution_count": 12,
     "metadata": {},
     "output_type": "execute_result"
    },
    {
     "data": {
      "text/plain": [
       "<Figure size 640x480 with 1 Axes>"
      ],
      "image/png": "[encoded data removed]"
     },
     "metadata": {},
     "output_type": "display_data"
    }
   ],
   "execution_count": 12
  },
  {
   "metadata": {},
   "cell_type": "markdown",
   "source": "### Words count"
  },
  {
   "metadata": {
    "ExecuteTime": {
     "end_time": "2025-03-29T14:23:22.337657Z",
     "start_time": "2025-03-29T14:23:22.094671Z"
    }
   },
   "cell_type": "code",
   "source": [
    "df['words_count'] = df['content'].apply(lambda x: len(x.split()) if isinstance(x, str) else 0)\n",
    "print(\"\\nDataFrame with words count:\")\n",
    "df[['content', 'words_count']].head()"
   ],
   "outputs": [
    {
     "name": "stdout",
     "output_type": "stream",
     "text": [
      "\n",
      "DataFrame with words count:\n"
     ]
    },
    {
     "data": {
      "text/plain": [
       "                                                                                               content  \\\n",
       "0  Новий огляд мапи DeepState від російського військового експерта, кухара путіна 2 розряду, спеціа...   \n",
       "1  Недавно 95 квартал жёстко поглумился над русскими баранами, которые притворяются украинцами. Про...   \n",
       "2  🤩\\nТим часом йде евакуація Бєлгородського автовокзалу - він оточений з невідомих простій русні п...   \n",
       "3  В Україні найближчим часом мають намір посилити відповідальність за ухилення від мобілізації та ...   \n",
       "4  Расчёты 122-мм САУ 2С1 \"Гвоздика\" 132-й бригады 1-го АК 8-й армии ЮВО ВС России точным огнем, ко...   \n",
       "\n",
       "   words_count  \n",
       "0           49  \n",
       "1          160  \n",
       "2           36  \n",
       "3          124  \n",
       "4           24  "
      ],
      "text/html": [
       "<div>\n",
       "<style scoped>\n",
       "    .dataframe tbody tr th:only-of-type {\n",
       "        vertical-align: middle;\n",
       "    }\n",
       "\n",
       "    .dataframe tbody tr th {\n",
       "        vertical-align: top;\n",
       "    }\n",
       "\n",
       "    .dataframe thead th {\n",
       "        text-align: right;\n",
       "    }\n",
       "</style>\n",
       "<table border=\"1\" class=\"dataframe\">\n",
       "  <thead>\n",
       "    <tr style=\"text-align: right;\">\n",
       "      <th></th>\n",
       "      <th>content</th>\n",
       "      <th>words_count</th>\n",
       "    </tr>\n",
       "  </thead>\n",
       "  <tbody>\n",
       "    <tr>\n",
       "      <th>0</th>\n",
       "      <td>Новий огляд мапи DeepState від російського військового експерта, кухара путіна 2 розряду, спеціа...</td>\n",
       "      <td>49</td>\n",
       "    </tr>\n",
       "    <tr>\n",
       "      <th>1</th>\n",
       "      <td>Недавно 95 квартал жёстко поглумился над русскими баранами, которые притворяются украинцами. Про...</td>\n",
       "      <td>160</td>\n",
       "    </tr>\n",
       "    <tr>\n",
       "      <th>2</th>\n",
       "      <td>🤩\\nТим часом йде евакуація Бєлгородського автовокзалу - він оточений з невідомих простій русні п...</td>\n",
       "      <td>36</td>\n",
       "    </tr>\n",
       "    <tr>\n",
       "      <th>3</th>\n",
       "      <td>В Україні найближчим часом мають намір посилити відповідальність за ухилення від мобілізації та ...</td>\n",
       "      <td>124</td>\n",
       "    </tr>\n",
       "    <tr>\n",
       "      <th>4</th>\n",
       "      <td>Расчёты 122-мм САУ 2С1 \"Гвоздика\" 132-й бригады 1-го АК 8-й армии ЮВО ВС России точным огнем, ко...</td>\n",
       "      <td>24</td>\n",
       "    </tr>\n",
       "  </tbody>\n",
       "</table>\n",
       "</div>"
      ]
     },
     "execution_count": 13,
     "metadata": {},
     "output_type": "execute_result"
    }
   ],
   "execution_count": 13
  },
  {
   "metadata": {
    "ExecuteTime": {
     "end_time": "2025-03-29T14:23:22.617356Z",
     "start_time": "2025-03-29T14:23:22.395029Z"
    }
   },
   "cell_type": "code",
   "source": "df['words_count'].describe()",
   "outputs": [
    {
     "data": {
      "text/plain": [
       "count    3822.000000\n",
       "mean       86.093145\n",
       "std        85.902422\n",
       "min         9.000000\n",
       "25%        33.000000\n",
       "50%        60.000000\n",
       "75%       106.000000\n",
       "max       707.000000\n",
       "Name: words_count, dtype: float64"
      ]
     },
     "execution_count": 14,
     "metadata": {},
     "output_type": "execute_result"
    }
   ],
   "execution_count": 14
  },
  {
   "metadata": {},
   "cell_type": "markdown",
   "source": "## Trigger words extraction"
  },
  {
   "metadata": {
    "ExecuteTime": {
     "end_time": "2025-03-29T14:23:23.002171Z",
     "start_time": "2025-03-29T14:23:22.722658Z"
    }
   },
   "cell_type": "code",
   "source": [
    "def extract_trigger_words(row):\n",
    "    text = row['content']\n",
    "    tw = row['trigger_words']\n",
    "    # Check if trigger_words is not a numpy array or list (e.g. it's NaN)\n",
    "    if not isinstance(tw, (np.ndarray, list)):\n",
    "        return None\n",
    "    # If the array/list is empty, return None.\n",
    "    if len(tw) == 0:\n",
    "        return None\n",
    "    extracted_words = []\n",
    "    # Iterate over each subarray representing [start, end] indexes.\n",
    "    for indices in tw:\n",
    "        # Ensure that indices is array-like with exactly two elements.\n",
    "        if not isinstance(indices, (np.ndarray, list)) or len(indices) != 2:\n",
    "            continue\n",
    "        start, end = indices[0], indices[1]\n",
    "        extracted_words.append(text[start:end])\n",
    "    return extracted_words\n",
    "\n",
    "# Apply the extraction function row-wise to create a new column with the trigger words.\n",
    "df['trigger_words_text'] = df.apply(extract_trigger_words, axis=1)\n",
    "\n",
    "print(\"DataFrame with Trigger Words Extracted:\")\n",
    "df[['clean_content', 'techniques','trigger_words', 'trigger_words_text']]"
   ],
   "outputs": [
    {
     "name": "stdout",
     "output_type": "stream",
     "text": [
      "DataFrame with Trigger Words Extracted:\n"
     ]
    },
    {
     "data": {
      "text/plain": [
       "                                                                                            clean_content  \\\n",
       "0     Новий огляд мапи DeepState від російського військового експерта, кухара путіна 2 розряду, спеціа...   \n",
       "1     Недавно 95 квартал жёстко поглумился над русскими баранами, которые притворяются украинцами. Про...   \n",
       "2     🤩 Тим часом йде евакуація Бєлгородського автовокзалу - він оточений з невідомих простій русні пр...   \n",
       "3     В Україні найближчим часом мають намір посилити відповідальність за ухилення від мобілізації та ...   \n",
       "4     Расчёты 122-мм САУ 2С1 \"Гвоздика\" 132-й бригады 1-го АК 8-й армии ЮВО ВС России точным огнем, ко...   \n",
       "...                                                                                                   ...   \n",
       "3817  🤭 росія ставить ППО на дахах адмінбудівель російське керівництво перелякане, що військова промис...   \n",
       "3818  К слову, Бабий не просто «ларечник», а и человек народного депутата СН Дубнова, а Дубнов - родст...   \n",
       "3819  Глава ФСБ Бортников ответил журналистам, почему те, кто совершает преступления против России и р...   \n",
       "3820  В ДНР завозили наркотики в бытовой технике Об этом сообщили в пресс-службе МВД по ДНР. У предпри...   \n",
       "3821  Ще вчора ти погоджував своєму корешу розпил сотень мільйонів гривень під час окупації. А сьогодн...   \n",
       "\n",
       "                                   techniques  \\\n",
       "0                 [euphoria, loaded_language]   \n",
       "1           [loaded_language, cherry_picking]   \n",
       "2                 [loaded_language, euphoria]   \n",
       "3                                        None   \n",
       "4                           [loaded_language]   \n",
       "...                                       ...   \n",
       "3817              [loaded_language, euphoria]   \n",
       "3818                        [loaded_language]   \n",
       "3819                                     None   \n",
       "3820                                     None   \n",
       "3821  [loaded_language, whataboutism, cliche]   \n",
       "\n",
       "                                                                      trigger_words  \\\n",
       "0                                       [[27, 63], [65, 88], [90, 183], [186, 308]]   \n",
       "1                                     [[0, 40], [123, 137], [180, 251], [253, 274]]   \n",
       "2                                                                       [[55, 100]]   \n",
       "3                                                                              None   \n",
       "4                                                                      [[114, 144]]   \n",
       "...                                                                             ...   \n",
       "3817  [[2, 7], [43, 75], [77, 143], [145, 178], [340, 385], [492, 526], [540, 571]]   \n",
       "3818                                             [[25, 35], [103, 128], [149, 166]]   \n",
       "3819                                                                           None   \n",
       "3820                                                                           None   \n",
       "3821                                                                     [[0, 203]]   \n",
       "\n",
       "                                                                                       trigger_words_text  \n",
       "0     [від російського військового експерта, кухара путіна 2 розряду, спеціаліста по снарядному голоду...  \n",
       "1     [Недавно 95 квартал жёстко поглумился над, дегенеративные, Как обычно стать на колени и лизать у...  \n",
       "2                                                         [він оточений з невідомих простій русні причин]  \n",
       "3                                                                                                    None  \n",
       "4                                                                        [уничтожают украинских нацистов]  \n",
       "...                                                                                                   ...  \n",
       "3817  [росія, російське керівництво перелякане, що військова промисловість нашої держави може виготови...  \n",
       "3818                                           [«ларечник», проворовавшегося министра, Такой вот подряд.]  \n",
       "3819                                                                                                 None  \n",
       "3820                                                                                                 None  \n",
       "3821  [Ще вчора ти \\nпогоджував\\n своєму корешу розпил сотень мільйонів гривень під час окупації. А сь...  \n",
       "\n",
       "[3822 rows x 4 columns]"
      ],
      "text/html": [
       "<div>\n",
       "<style scoped>\n",
       "    .dataframe tbody tr th:only-of-type {\n",
       "        vertical-align: middle;\n",
       "    }\n",
       "\n",
       "    .dataframe tbody tr th {\n",
       "        vertical-align: top;\n",
       "    }\n",
       "\n",
       "    .dataframe thead th {\n",
       "        text-align: right;\n",
       "    }\n",
       "</style>\n",
       "<table border=\"1\" class=\"dataframe\">\n",
       "  <thead>\n",
       "    <tr style=\"text-align: right;\">\n",
       "      <th></th>\n",
       "      <th>clean_content</th>\n",
       "      <th>techniques</th>\n",
       "      <th>trigger_words</th>\n",
       "      <th>trigger_words_text</th>\n",
       "    </tr>\n",
       "  </thead>\n",
       "  <tbody>\n",
       "    <tr>\n",
       "      <th>0</th>\n",
       "      <td>Новий огляд мапи DeepState від російського військового експерта, кухара путіна 2 розряду, спеціа...</td>\n",
       "      <td>[euphoria, loaded_language]</td>\n",
       "      <td>[[27, 63], [65, 88], [90, 183], [186, 308]]</td>\n",
       "      <td>[від російського військового експерта, кухара путіна 2 розряду, спеціаліста по снарядному голоду...</td>\n",
       "    </tr>\n",
       "    <tr>\n",
       "      <th>1</th>\n",
       "      <td>Недавно 95 квартал жёстко поглумился над русскими баранами, которые притворяются украинцами. Про...</td>\n",
       "      <td>[loaded_language, cherry_picking]</td>\n",
       "      <td>[[0, 40], [123, 137], [180, 251], [253, 274]]</td>\n",
       "      <td>[Недавно 95 квартал жёстко поглумился над, дегенеративные, Как обычно стать на колени и лизать у...</td>\n",
       "    </tr>\n",
       "    <tr>\n",
       "      <th>2</th>\n",
       "      <td>🤩 Тим часом йде евакуація Бєлгородського автовокзалу - він оточений з невідомих простій русні пр...</td>\n",
       "      <td>[loaded_language, euphoria]</td>\n",
       "      <td>[[55, 100]]</td>\n",
       "      <td>[він оточений з невідомих простій русні причин]</td>\n",
       "    </tr>\n",
       "    <tr>\n",
       "      <th>3</th>\n",
       "      <td>В Україні найближчим часом мають намір посилити відповідальність за ухилення від мобілізації та ...</td>\n",
       "      <td>None</td>\n",
       "      <td>None</td>\n",
       "      <td>None</td>\n",
       "    </tr>\n",
       "    <tr>\n",
       "      <th>4</th>\n",
       "      <td>Расчёты 122-мм САУ 2С1 \"Гвоздика\" 132-й бригады 1-го АК 8-й армии ЮВО ВС России точным огнем, ко...</td>\n",
       "      <td>[loaded_language]</td>\n",
       "      <td>[[114, 144]]</td>\n",
       "      <td>[уничтожают украинских нацистов]</td>\n",
       "    </tr>\n",
       "    <tr>\n",
       "      <th>...</th>\n",
       "      <td>...</td>\n",
       "      <td>...</td>\n",
       "      <td>...</td>\n",
       "      <td>...</td>\n",
       "    </tr>\n",
       "    <tr>\n",
       "      <th>3817</th>\n",
       "      <td>🤭 росія ставить ППО на дахах адмінбудівель російське керівництво перелякане, що військова промис...</td>\n",
       "      <td>[loaded_language, euphoria]</td>\n",
       "      <td>[[2, 7], [43, 75], [77, 143], [145, 178], [340, 385], [492, 526], [540, 571]]</td>\n",
       "      <td>[росія, російське керівництво перелякане, що військова промисловість нашої держави може виготови...</td>\n",
       "    </tr>\n",
       "    <tr>\n",
       "      <th>3818</th>\n",
       "      <td>К слову, Бабий не просто «ларечник», а и человек народного депутата СН Дубнова, а Дубнов - родст...</td>\n",
       "      <td>[loaded_language]</td>\n",
       "      <td>[[25, 35], [103, 128], [149, 166]]</td>\n",
       "      <td>[«ларечник», проворовавшегося министра, Такой вот подряд.]</td>\n",
       "    </tr>\n",
       "    <tr>\n",
       "      <th>3819</th>\n",
       "      <td>Глава ФСБ Бортников ответил журналистам, почему те, кто совершает преступления против России и р...</td>\n",
       "      <td>None</td>\n",
       "      <td>None</td>\n",
       "      <td>None</td>\n",
       "    </tr>\n",
       "    <tr>\n",
       "      <th>3820</th>\n",
       "      <td>В ДНР завозили наркотики в бытовой технике Об этом сообщили в пресс-службе МВД по ДНР. У предпри...</td>\n",
       "      <td>None</td>\n",
       "      <td>None</td>\n",
       "      <td>None</td>\n",
       "    </tr>\n",
       "    <tr>\n",
       "      <th>3821</th>\n",
       "      <td>Ще вчора ти погоджував своєму корешу розпил сотень мільйонів гривень під час окупації. А сьогодн...</td>\n",
       "      <td>[loaded_language, whataboutism, cliche]</td>\n",
       "      <td>[[0, 203]]</td>\n",
       "      <td>[Ще вчора ти \\nпогоджував\\n своєму корешу розпил сотень мільйонів гривень під час окупації. А сь...</td>\n",
       "    </tr>\n",
       "  </tbody>\n",
       "</table>\n",
       "<p>3822 rows × 4 columns</p>\n",
       "</div>"
      ]
     },
     "execution_count": 15,
     "metadata": {},
     "output_type": "execute_result"
    }
   ],
   "execution_count": 15
  },
  {
   "metadata": {},
   "cell_type": "markdown",
   "source": "## Most used words per technique"
  },
  {
   "metadata": {
    "ExecuteTime": {
     "end_time": "2025-03-29T14:23:23.766403Z",
     "start_time": "2025-03-29T14:23:23.097775Z"
    }
   },
   "cell_type": "code",
   "source": [
    "from collections import defaultdict, Counter\n",
    "import itertools\n",
    "import stopwordsiso as stopwords\n",
    "\n",
    "def remove_ukrainian_stopwords(tokens: list) -> list:\n",
    "    \"\"\"\n",
    "    Remove Ukrainian stopwords from a list of tokens using the stopwords-iso dictionary.\n",
    "\n",
    "    Parameters:\n",
    "        tokens (list): A list of word tokens (strings).\n",
    "\n",
    "    Returns:\n",
    "        list: The list of tokens with Ukrainian stopwords removed.\n",
    "    \"\"\"\n",
    "    # Retrieve Ukrainian stopwords from stopwords-iso.\n",
    "    uk_stopwords = stopwords.stopwords(\"uk\")\n",
    "    ru_stopwords = stopwords.stopwords(\"ru\")\n",
    "    custom_stopwords = {'в', 'на', 'і', 'не', 'у', 'за', '-','—', '–', 'c', 'что', 'всі', 'хто', '\"', \"'\", \",\", \"вже\", 'які', 'ще'}\n",
    "    uk_ru_stopwords = uk_stopwords.union(custom_stopwords).union(ru_stopwords)\n",
    "    # Filter tokens, ensuring case-insensitive comparison.\n",
    "    filtered_tokens = [token for token in tokens if token.lower() not in uk_ru_stopwords]\n",
    "    return filtered_tokens\n",
    "\n",
    "# Create a dictionary to collect trigger words for each technique.\n",
    "technique_trigger_words = defaultdict(list)\n",
    "\n",
    "# Iterate over each row in the DataFrame.\n",
    "# We assume that df has a \"techniques\" column (list of techniques per row)\n",
    "# and a \"trigger_words_text\" column (list of extracted trigger words).\n",
    "for _, row in df.iterrows():\n",
    "    techniques_in_row = row.get(\"techniques\")\n",
    "    trigger_words_text = row.get(\"trigger_words_text\")\n",
    "    if not isinstance(techniques_in_row, np.ndarray) or not isinstance(trigger_words_text, list):\n",
    "        continue\n",
    "\n",
    "    trigger_words = remove_ukrainian_stopwords(list(itertools.chain.from_iterable([t.split() for t in trigger_words_text])))\n",
    "    for tech in techniques_in_row:\n",
    "        technique_trigger_words[tech].extend(trigger_words)\n",
    "\n",
    "# Now, for each technique, count frequency and print the top 5 triggering words.\n",
    "top_n = 10\n",
    "print(\"Top triggering words per technique:\")\n",
    "for technique, words in technique_trigger_words.items():\n",
    "    counter = Counter(words)\n",
    "    top_words = counter.most_common(top_n)\n",
    "    print(f\"\\nTechnique: {technique}\")\n",
    "    for word, count in top_words:\n",
    "        print(f\"  {word}: {count}\")\n"
   ],
   "outputs": [
    {
     "name": "stdout",
     "output_type": "stream",
     "text": [
      "Top triggering words per technique:\n",
      "\n",
      "Technique: euphoria\n",
      "  ВСУ: 33\n",
      "  окупантів: 25\n",
      "  України: 22\n",
      "  Слава: 22\n",
      "  наших: 21\n",
      "  России: 20\n",
      "  росіян: 19\n",
      "  ЗСУ: 19\n",
      "  нашу: 18\n",
      "  наші: 17\n",
      "\n",
      "Technique: loaded_language\n",
      "  ВСУ: 67\n",
      "  Украине: 65\n",
      "  Украины: 63\n",
      "  людей: 61\n",
      "  України: 59\n",
      "  щоб: 56\n",
      "  России: 53\n",
      "  США: 52\n",
      "  буде: 52\n",
      "  дуже: 52\n",
      "\n",
      "Technique: cherry_picking\n",
      "  Украины: 48\n",
      "  ВСУ: 44\n",
      "  России: 42\n",
      "  Украине: 40\n",
      "  Украина: 29\n",
      "  Зеленского: 27\n",
      "  США: 26\n",
      "  людей: 24\n",
      "  РФ: 23\n",
      "  том,: 22\n",
      "\n",
      "Technique: glittering_generalities\n",
      "  України: 54\n",
      "  наших: 52\n",
      "  нашу: 50\n",
      "  Україна: 48\n",
      "  Разом: 47\n",
      "  Слава: 45\n",
      "  наші: 42\n",
      "  щоб: 38\n",
      "  буде: 35\n",
      "  лише: 33\n",
      "\n",
      "Technique: cliche\n",
      "  Слава: 34\n",
      "  України: 27\n",
      "  наших: 27\n",
      "  людей: 24\n",
      "  війни: 22\n",
      "  России: 22\n",
      "  Разом: 22\n",
      "  Україна: 20\n",
      "  дуже: 20\n",
      "  щоб: 20\n",
      "\n",
      "Technique: appeal_to_fear\n",
      "  Украине: 26\n",
      "  Украины: 25\n",
      "  людей: 22\n",
      "  Украина: 20\n",
      "  США: 19\n",
      "  ВСУ: 19\n",
      "  России: 16\n",
      "  украинских: 15\n",
      "  Зеленского: 14\n",
      "  ТЦК: 13\n",
      "\n",
      "Technique: bandwagon\n",
      "  😄: 14\n",
      "  війни: 13\n",
      "  разом: 10\n",
      "  його: 9\n",
      "  людей: 8\n",
      "  те,: 8\n",
      "  щоб: 8\n",
      "  Якщо: 8\n",
      "  яка: 8\n",
      "  тільки: 8\n",
      "\n",
      "Technique: fud\n",
      "  ВСУ: 47\n",
      "  Украине: 34\n",
      "  Украины: 32\n",
      "  США: 29\n",
      "  Зеленского: 29\n",
      "  людей: 20\n",
      "  Зеленский: 18\n",
      "  украинских: 18\n",
      "  Украина: 18\n",
      "  РФ: 16\n",
      "\n",
      "Technique: whataboutism\n",
      "  Украины: 11\n",
      "  НАТО: 10\n",
      "  Путин: 10\n",
      "  США: 10\n",
      "  Украине: 9\n",
      "  страны: 9\n",
      "  тепер: 8\n",
      "  то,: 6\n",
      "  должны: 6\n",
      "  Зеленского: 6\n",
      "\n",
      "Technique: straw_man\n",
      "  Украине: 17\n",
      "  Украины: 15\n",
      "  США: 13\n",
      "  НАТО: 12\n",
      "  том,: 12\n",
      "  то,: 11\n",
      "  Украина: 11\n",
      "  Зеленского: 10\n",
      "  украинских: 8\n",
      "  Украину: 8\n"
     ]
    }
   ],
   "execution_count": 16
  },
  {
   "metadata": {
    "ExecuteTime": {
     "end_time": "2025-03-29T14:23:24.856547Z",
     "start_time": "2025-03-29T14:23:23.814375Z"
    }
   },
   "cell_type": "code",
   "source": [
    "plt.figure(figsize=(10, 6))\n",
    "plt.hist(df['words_count'], bins=range(min(df['words_count']), max(df['words_count']) + 2))\n",
    "plt.title(\"Distribution of words count\")\n",
    "plt.xlabel(\"Word Count\")\n",
    "plt.ylabel(\"Frequency\")\n",
    "plt.show()"
   ],
   "outputs": [
    {
     "data": {
      "text/plain": [
       "<Figure size 1000x600 with 0 Axes>"
      ]
     },
     "execution_count": 17,
     "metadata": {},
     "output_type": "execute_result"
    },
    {
     "data": {
      "text/plain": [
       "(array([ 3.,  7.,  3.,  9., 17., 24., 30., 60., 53., 58., 77., 46., 43.,\n",
       "        57., 46., 40., 43., 46., 51., 37., 36., 48., 48., 42., 53., 43.,\n",
       "        50., 44., 36., 41., 32., 49., 49., 45., 41., 33., 38., 39., 38.,\n",
       "        34., 32., 40., 33., 21., 27., 36., 26., 26., 24., 28., 22., 45.,\n",
       "        25., 24., 28., 23., 29., 26., 28., 20., 27., 20., 19., 20., 19.,\n",
       "        17., 25., 18., 17., 16., 29., 18., 19., 25., 18., 20., 21., 19.,\n",
       "        28., 19., 22., 17., 21., 20., 16., 17., 21., 13., 15., 18., 24.,\n",
       "        15., 18.,  9., 11., 17., 19.,  8., 10., 16., 12., 12., 14., 11.,\n",
       "        11., 12.,  8., 13., 16., 14.,  6.,  9.,  9., 10.,  8.,  9., 14.,\n",
       "        15., 10., 10., 10., 15.,  9.,  7., 10., 11., 10.,  7.,  8.,  9.,\n",
       "         7., 15.,  9., 11., 15.,  6., 11.,  4.,  8.,  6., 10., 10.,  4.,\n",
       "        12.,  9.,  2.,  4.,  5.,  5.,  3.,  6.,  8.,  6.,  7.,  5.,  9.,\n",
       "         7.,  3.,  4.,  4.,  0.,  4., 11.,  8.,  3.,  2.,  6.,  2.,  1.,\n",
       "         3.,  2.,  7.,  4.,  1.,  3.,  8.,  4.,  3.,  4.,  3.,  2.,  3.,\n",
       "         3.,  3.,  1.,  4.,  1.,  2.,  2.,  1.,  2.,  1.,  5.,  2.,  3.,\n",
       "         1.,  3.,  2.,  2.,  3.,  0.,  3.,  1.,  3.,  0.,  3.,  2.,  3.,\n",
       "         4.,  3.,  1.,  3.,  3.,  3.,  2.,  2.,  1.,  2.,  2.,  4.,  1.,\n",
       "         0.,  3.,  1.,  1.,  3.,  4.,  0.,  2.,  0.,  0.,  2.,  2.,  3.,\n",
       "         2.,  6.,  3.,  1.,  2.,  3.,  0.,  3.,  1.,  0.,  2.,  2.,  2.,\n",
       "         0.,  1.,  1.,  0.,  1.,  3.,  2.,  1.,  2.,  3.,  3.,  0.,  1.,\n",
       "         0.,  1.,  1.,  3.,  1.,  4.,  0.,  2.,  1.,  2.,  1.,  0.,  1.,\n",
       "         1.,  0.,  1.,  1.,  2.,  0.,  1.,  2.,  0.,  0.,  1.,  1.,  1.,\n",
       "         1.,  0.,  1.,  1.,  1.,  1.,  0.,  1.,  0.,  3.,  1.,  1.,  1.,\n",
       "         1.,  1.,  3.,  1.,  0.,  1.,  0.,  0.,  1.,  0.,  1.,  0.,  0.,\n",
       "         1.,  0.,  0.,  0.,  0.,  1.,  0.,  0.,  0.,  1.,  0.,  1.,  0.,\n",
       "         1.,  0.,  0.,  1.,  0.,  1.,  1.,  1.,  0.,  2.,  1.,  1.,  0.,\n",
       "         0.,  1.,  1.,  0.,  1.,  1.,  0.,  0.,  1.,  1.,  1.,  1.,  0.,\n",
       "         1.,  0.,  1.,  1.,  0.,  0.,  0.,  0.,  0.,  2.,  2.,  0.,  0.,\n",
       "         0.,  0.,  0.,  0.,  0.,  0.,  1.,  1.,  0.,  1.,  2.,  2.,  0.,\n",
       "         0.,  0.,  0.,  1.,  0.,  2.,  1.,  0.,  1.,  0.,  1.,  0.,  0.,\n",
       "         0.,  1.,  0.,  0.,  1.,  0.,  0.,  1.,  0.,  0.,  0.,  1.,  1.,\n",
       "         1.,  1.,  0.,  0.,  0.,  3.,  0.,  0.,  0.,  1.,  0.,  0.,  1.,\n",
       "         0.,  3.,  0.,  1.,  1.,  0.,  0.,  0.,  0.,  0.,  0.,  0.,  2.,\n",
       "         0.,  1.,  0.,  0.,  0.,  0.,  0.,  0.,  0.,  0.,  1.,  0.,  1.,\n",
       "         0.,  1.,  1.,  2.,  0.,  0.,  0.,  0.,  0.,  0.,  0.,  0.,  0.,\n",
       "         0.,  0.,  0.,  1.,  0.,  1.,  0.,  0.,  0.,  0.,  1.,  0.,  1.,\n",
       "         0.,  0.,  1.,  0.,  1.,  0.,  0.,  1.,  0.,  1.,  0.,  0.,  0.,\n",
       "         0.,  0.,  0.,  0.,  0.,  0.,  0.,  0.,  0.,  0.,  1.,  0.,  1.,\n",
       "         0.,  0.,  1.,  0.,  0.,  0.,  2.,  0.,  0.,  0.,  0.,  0.,  0.,\n",
       "         0.,  1.,  0.,  0.,  0.,  0.,  0.,  0.,  0.,  0.,  0.,  0.,  0.,\n",
       "         0.,  0.,  0.,  0.,  0.,  0.,  1.,  0.,  1.,  0.,  0.,  0.,  0.,\n",
       "         0.,  0.,  0.,  0.,  0.,  1.,  1.,  1.,  1.,  0.,  0.,  1.,  0.,\n",
       "         1.,  0.,  1.,  1.,  1.,  0.,  1.,  0.,  0.,  0.,  0.,  0.,  0.,\n",
       "         0.,  0.,  0.,  1.,  0.,  2.,  1.,  0.,  0.,  0.,  1.,  0.,  2.,\n",
       "         0.,  0.,  0.,  2.,  0.,  1.,  0.,  0.,  0.,  0.,  0.,  0.,  2.,\n",
       "         0.,  0.,  0.,  0.,  0.,  0.,  0.,  0.,  1.,  0.,  0.,  0.,  0.,\n",
       "         0.,  0.,  0.,  0.,  0.,  0.,  0.,  1.,  0.,  0.,  0.,  1.,  0.,\n",
       "         0.,  0.,  0.,  0.,  0.,  0.,  0.,  0.,  0.,  0.,  0.,  0.,  0.,\n",
       "         0.,  0.,  0.,  0.,  0.,  0.,  0.,  0.,  0.,  0.,  0.,  0.,  0.,\n",
       "         0.,  0.,  0.,  0.,  0.,  0.,  0.,  0.,  0.,  0.,  0.,  0.,  0.,\n",
       "         0.,  0.,  0.,  0.,  0.,  0.,  0.,  0.,  0.,  0.,  0.,  0.,  0.,\n",
       "         0.,  0.,  0.,  0.,  0.,  0.,  0.,  0.,  0.,  0.,  0.,  0.,  0.,\n",
       "         0.,  0.,  0.,  0.,  0.,  0.,  0.,  0.,  0.,  0.,  0.,  0.,  0.,\n",
       "         0.,  0.,  0.,  0.,  0.,  0.,  0.,  0.,  0.,  1.]),\n",
       " array([  9.,  10.,  11.,  12.,  13.,  14.,  15.,  16.,  17.,  18.,  19.,\n",
       "         20.,  21.,  22.,  23.,  24.,  25.,  26.,  27.,  28.,  29.,  30.,\n",
       "         31.,  32.,  33.,  34.,  35.,  36.,  37.,  38.,  39.,  40.,  41.,\n",
       "         42.,  43.,  44.,  45.,  46.,  47.,  48.,  49.,  50.,  51.,  52.,\n",
       "         53.,  54.,  55.,  56.,  57.,  58.,  59.,  60.,  61.,  62.,  63.,\n",
       "         64.,  65.,  66.,  67.,  68.,  69.,  70.,  71.,  72.,  73.,  74.,\n",
       "         75.,  76.,  77.,  78.,  79.,  80.,  81.,  82.,  83.,  84.,  85.,\n",
       "         86.,  87.,  88.,  89.,  90.,  91.,  92.,  93.,  94.,  95.,  96.,\n",
       "         97.,  98.,  99., 100., 101., 102., 103., 104., 105., 106., 107.,\n",
       "        108., 109., 110., 111., 112., 113., 114., 115., 116., 117., 118.,\n",
       "        119., 120., 121., 122., 123., 124., 125., 126., 127., 128., 129.,\n",
       "        130., 131., 132., 133., 134., 135., 136., 137., 138., 139., 140.,\n",
       "        141., 142., 143., 144., 145., 146., 147., 148., 149., 150., 151.,\n",
       "        152., 153., 154., 155., 156., 157., 158., 159., 160., 161., 162.,\n",
       "        163., 164., 165., 166., 167., 168., 169., 170., 171., 172., 173.,\n",
       "        174., 175., 176., 177., 178., 179., 180., 181., 182., 183., 184.,\n",
       "        185., 186., 187., 188., 189., 190., 191., 192., 193., 194., 195.,\n",
       "        196., 197., 198., 199., 200., 201., 202., 203., 204., 205., 206.,\n",
       "        207., 208., 209., 210., 211., 212., 213., 214., 215., 216., 217.,\n",
       "        218., 219., 220., 221., 222., 223., 224., 225., 226., 227., 228.,\n",
       "        229., 230., 231., 232., 233., 234., 235., 236., 237., 238., 239.,\n",
       "        240., 241., 242., 243., 244., 245., 246., 247., 248., 249., 250.,\n",
       "        251., 252., 253., 254., 255., 256., 257., 258., 259., 260., 261.,\n",
       "        262., 263., 264., 265., 266., 267., 268., 269., 270., 271., 272.,\n",
       "        273., 274., 275., 276., 277., 278., 279., 280., 281., 282., 283.,\n",
       "        284., 285., 286., 287., 288., 289., 290., 291., 292., 293., 294.,\n",
       "        295., 296., 297., 298., 299., 300., 301., 302., 303., 304., 305.,\n",
       "        306., 307., 308., 309., 310., 311., 312., 313., 314., 315., 316.,\n",
       "        317., 318., 319., 320., 321., 322., 323., 324., 325., 326., 327.,\n",
       "        328., 329., 330., 331., 332., 333., 334., 335., 336., 337., 338.,\n",
       "        339., 340., 341., 342., 343., 344., 345., 346., 347., 348., 349.,\n",
       "        350., 351., 352., 353., 354., 355., 356., 357., 358., 359., 360.,\n",
       "        361., 362., 363., 364., 365., 366., 367., 368., 369., 370., 371.,\n",
       "        372., 373., 374., 375., 376., 377., 378., 379., 380., 381., 382.,\n",
       "        383., 384., 385., 386., 387., 388., 389., 390., 391., 392., 393.,\n",
       "        394., 395., 396., 397., 398., 399., 400., 401., 402., 403., 404.,\n",
       "        405., 406., 407., 408., 409., 410., 411., 412., 413., 414., 415.,\n",
       "        416., 417., 418., 419., 420., 421., 422., 423., 424., 425., 426.,\n",
       "        427., 428., 429., 430., 431., 432., 433., 434., 435., 436., 437.,\n",
       "        438., 439., 440., 441., 442., 443., 444., 445., 446., 447., 448.,\n",
       "        449., 450., 451., 452., 453., 454., 455., 456., 457., 458., 459.,\n",
       "        460., 461., 462., 463., 464., 465., 466., 467., 468., 469., 470.,\n",
       "        471., 472., 473., 474., 475., 476., 477., 478., 479., 480., 481.,\n",
       "        482., 483., 484., 485., 486., 487., 488., 489., 490., 491., 492.,\n",
       "        493., 494., 495., 496., 497., 498., 499., 500., 501., 502., 503.,\n",
       "        504., 505., 506., 507., 508., 509., 510., 511., 512., 513., 514.,\n",
       "        515., 516., 517., 518., 519., 520., 521., 522., 523., 524., 525.,\n",
       "        526., 527., 528., 529., 530., 531., 532., 533., 534., 535., 536.,\n",
       "        537., 538., 539., 540., 541., 542., 543., 544., 545., 546., 547.,\n",
       "        548., 549., 550., 551., 552., 553., 554., 555., 556., 557., 558.,\n",
       "        559., 560., 561., 562., 563., 564., 565., 566., 567., 568., 569.,\n",
       "        570., 571., 572., 573., 574., 575., 576., 577., 578., 579., 580.,\n",
       "        581., 582., 583., 584., 585., 586., 587., 588., 589., 590., 591.,\n",
       "        592., 593., 594., 595., 596., 597., 598., 599., 600., 601., 602.,\n",
       "        603., 604., 605., 606., 607., 608., 609., 610., 611., 612., 613.,\n",
       "        614., 615., 616., 617., 618., 619., 620., 621., 622., 623., 624.,\n",
       "        625., 626., 627., 628., 629., 630., 631., 632., 633., 634., 635.,\n",
       "        636., 637., 638., 639., 640., 641., 642., 643., 644., 645., 646.,\n",
       "        647., 648., 649., 650., 651., 652., 653., 654., 655., 656., 657.,\n",
       "        658., 659., 660., 661., 662., 663., 664., 665., 666., 667., 668.,\n",
       "        669., 670., 671., 672., 673., 674., 675., 676., 677., 678., 679.,\n",
       "        680., 681., 682., 683., 684., 685., 686., 687., 688., 689., 690.,\n",
       "        691., 692., 693., 694., 695., 696., 697., 698., 699., 700., 701.,\n",
       "        702., 703., 704., 705., 706., 707., 708.]),\n",
       " <BarContainer object of 699 artists>)"
      ]
     },
     "execution_count": 17,
     "metadata": {},
     "output_type": "execute_result"
    },
    {
     "data": {
      "text/plain": [
       "Text(0.5, 1.0, 'Distribution of words count')"
      ]
     },
     "execution_count": 17,
     "metadata": {},
     "output_type": "execute_result"
    },
    {
     "data": {
      "text/plain": [
       "Text(0.5, 0, 'Word Count')"
      ]
     },
     "execution_count": 17,
     "metadata": {},
     "output_type": "execute_result"
    },
    {
     "data": {
      "text/plain": [
       "Text(0, 0.5, 'Frequency')"
      ]
     },
     "execution_count": 17,
     "metadata": {},
     "output_type": "execute_result"
    },
    {
     "data": {
      "text/plain": [
       "<Figure size 1000x600 with 1 Axes>"
      ],
      "image/png": "[encoded data removed]"
     },
     "metadata": {},
     "output_type": "display_data"
    }
   ],
   "execution_count": 17
  },
  {
   "metadata": {},
   "cell_type": "markdown",
   "source": "### Calculate word frequency"
  },
  {
   "metadata": {
    "ExecuteTime": {
     "end_time": "2025-03-29T14:23:25.326072Z",
     "start_time": "2025-03-29T14:23:24.919844Z"
    }
   },
   "cell_type": "code",
   "source": [
    "import re\n",
    "from collections import Counter\n",
    "\n",
    "# Concatenate all text entries into a single string\n",
    "all_text = \" \".join(df['content'].dropna())\n",
    "\n",
    "# Convert to lowercase and remove punctuation (basic cleaning)\n",
    "all_text = all_text.lower()\n",
    "all_text = re.sub(r'[^\\w\\s]', '', all_text)\n",
    "\n",
    "# Split the text into words and count frequency\n",
    "words = all_text.split()\n",
    "word_counts = Counter(words)\n",
    "\n",
    "# Convert the word counts to a DataFrame for easier visualization\n",
    "word_counts_df = pd.DataFrame(word_counts.items(), columns=['word', 'count']).sort_values(by='count', ascending=False)\n",
    "\n",
    "print(\"\\nTop words by frequency:\")\n",
    "word_counts_df.head(10)"
   ],
   "outputs": [
    {
     "name": "stdout",
     "output_type": "stream",
     "text": [
      "\n",
      "Top words by frequency:\n"
     ]
    },
    {
     "data": {
      "text/plain": [
       "    word  count\n",
       "137    в   7547\n",
       "72    на   6272\n",
       "63     и   3832\n",
       "116   не   3520\n",
       "16    та   3278\n",
       "96     у   2996\n",
       "42     з   2560\n",
       "32     і   2472\n",
       "107   за   2068\n",
       "228   до   1899"
      ],
      "text/html": [
       "<div>\n",
       "<style scoped>\n",
       "    .dataframe tbody tr th:only-of-type {\n",
       "        vertical-align: middle;\n",
       "    }\n",
       "\n",
       "    .dataframe tbody tr th {\n",
       "        vertical-align: top;\n",
       "    }\n",
       "\n",
       "    .dataframe thead th {\n",
       "        text-align: right;\n",
       "    }\n",
       "</style>\n",
       "<table border=\"1\" class=\"dataframe\">\n",
       "  <thead>\n",
       "    <tr style=\"text-align: right;\">\n",
       "      <th></th>\n",
       "      <th>word</th>\n",
       "      <th>count</th>\n",
       "    </tr>\n",
       "  </thead>\n",
       "  <tbody>\n",
       "    <tr>\n",
       "      <th>137</th>\n",
       "      <td>в</td>\n",
       "      <td>7547</td>\n",
       "    </tr>\n",
       "    <tr>\n",
       "      <th>72</th>\n",
       "      <td>на</td>\n",
       "      <td>6272</td>\n",
       "    </tr>\n",
       "    <tr>\n",
       "      <th>63</th>\n",
       "      <td>и</td>\n",
       "      <td>3832</td>\n",
       "    </tr>\n",
       "    <tr>\n",
       "      <th>116</th>\n",
       "      <td>не</td>\n",
       "      <td>3520</td>\n",
       "    </tr>\n",
       "    <tr>\n",
       "      <th>16</th>\n",
       "      <td>та</td>\n",
       "      <td>3278</td>\n",
       "    </tr>\n",
       "    <tr>\n",
       "      <th>96</th>\n",
       "      <td>у</td>\n",
       "      <td>2996</td>\n",
       "    </tr>\n",
       "    <tr>\n",
       "      <th>42</th>\n",
       "      <td>з</td>\n",
       "      <td>2560</td>\n",
       "    </tr>\n",
       "    <tr>\n",
       "      <th>32</th>\n",
       "      <td>і</td>\n",
       "      <td>2472</td>\n",
       "    </tr>\n",
       "    <tr>\n",
       "      <th>107</th>\n",
       "      <td>за</td>\n",
       "      <td>2068</td>\n",
       "    </tr>\n",
       "    <tr>\n",
       "      <th>228</th>\n",
       "      <td>до</td>\n",
       "      <td>1899</td>\n",
       "    </tr>\n",
       "  </tbody>\n",
       "</table>\n",
       "</div>"
      ]
     },
     "execution_count": 18,
     "metadata": {},
     "output_type": "execute_result"
    }
   ],
   "execution_count": 18
  },
  {
   "metadata": {
    "ExecuteTime": {
     "end_time": "2025-03-29T14:23:25.533992Z",
     "start_time": "2025-03-29T14:23:25.326072Z"
    }
   },
   "cell_type": "code",
   "source": "word_counts_df.sort_values(by='count', ascending=True).head(10)",
   "outputs": [
    {
     "data": {
      "text/plain": [
       "                    word  count\n",
       "47680           набираем      1\n",
       "53607    зенітноракетним      1\n",
       "64508            новация      1\n",
       "53608         комплексам      1\n",
       "65424           десантом      1\n",
       "64510        разработают      1\n",
       "53610  співпрацюватимуть      1\n",
       "64511              аудио      1\n",
       "53611         туристично      1\n",
       "65423           экипажем      1"
      ],
      "text/html": [
       "<div>\n",
       "<style scoped>\n",
       "    .dataframe tbody tr th:only-of-type {\n",
       "        vertical-align: middle;\n",
       "    }\n",
       "\n",
       "    .dataframe tbody tr th {\n",
       "        vertical-align: top;\n",
       "    }\n",
       "\n",
       "    .dataframe thead th {\n",
       "        text-align: right;\n",
       "    }\n",
       "</style>\n",
       "<table border=\"1\" class=\"dataframe\">\n",
       "  <thead>\n",
       "    <tr style=\"text-align: right;\">\n",
       "      <th></th>\n",
       "      <th>word</th>\n",
       "      <th>count</th>\n",
       "    </tr>\n",
       "  </thead>\n",
       "  <tbody>\n",
       "    <tr>\n",
       "      <th>47680</th>\n",
       "      <td>набираем</td>\n",
       "      <td>1</td>\n",
       "    </tr>\n",
       "    <tr>\n",
       "      <th>53607</th>\n",
       "      <td>зенітноракетним</td>\n",
       "      <td>1</td>\n",
       "    </tr>\n",
       "    <tr>\n",
       "      <th>64508</th>\n",
       "      <td>новация</td>\n",
       "      <td>1</td>\n",
       "    </tr>\n",
       "    <tr>\n",
       "      <th>53608</th>\n",
       "      <td>комплексам</td>\n",
       "      <td>1</td>\n",
       "    </tr>\n",
       "    <tr>\n",
       "      <th>65424</th>\n",
       "      <td>десантом</td>\n",
       "      <td>1</td>\n",
       "    </tr>\n",
       "    <tr>\n",
       "      <th>64510</th>\n",
       "      <td>разработают</td>\n",
       "      <td>1</td>\n",
       "    </tr>\n",
       "    <tr>\n",
       "      <th>53610</th>\n",
       "      <td>співпрацюватимуть</td>\n",
       "      <td>1</td>\n",
       "    </tr>\n",
       "    <tr>\n",
       "      <th>64511</th>\n",
       "      <td>аудио</td>\n",
       "      <td>1</td>\n",
       "    </tr>\n",
       "    <tr>\n",
       "      <th>53611</th>\n",
       "      <td>туристично</td>\n",
       "      <td>1</td>\n",
       "    </tr>\n",
       "    <tr>\n",
       "      <th>65423</th>\n",
       "      <td>экипажем</td>\n",
       "      <td>1</td>\n",
       "    </tr>\n",
       "  </tbody>\n",
       "</table>\n",
       "</div>"
      ]
     },
     "execution_count": 19,
     "metadata": {},
     "output_type": "execute_result"
    }
   ],
   "execution_count": 19
  },
  {
   "metadata": {},
   "cell_type": "markdown",
   "source": "## Use tokenizer to analyze token count"
  },
  {
   "metadata": {
    "ExecuteTime": {
     "end_time": "2025-03-29T14:23:25.740842Z",
     "start_time": "2025-03-29T14:23:25.533992Z"
    }
   },
   "cell_type": "code",
   "source": [
    "model_name = 'youscan/ukr-roberta-base'\n",
    "max_tokens_length=512"
   ],
   "outputs": [],
   "execution_count": 20
  },
  {
   "metadata": {
    "ExecuteTime": {
     "end_time": "2025-03-29T14:23:30.403950Z",
     "start_time": "2025-03-29T14:23:25.740842Z"
    }
   },
   "cell_type": "code",
   "source": [
    "tokenizer = AutoTokenizer.from_pretrained(model_name)\n",
    "df['hf_token_count'] = df['clean_content'].apply(lambda x: len(tokenizer.tokenize(x)))\n",
    "\n",
    "plt.figure(figsize=(10, 6))\n",
    "plt.hist(df['hf_token_count'], bins=range(min(df['hf_token_count']), max(df['hf_token_count'])+2))\n",
    "plt.title(\"HF Token Count Distribution\")\n",
    "plt.xlabel(\"Token Count\")\n",
    "plt.ylabel(\"Frequency\")\n",
    "plt.show()"
   ],
   "outputs": [
    {
     "name": "stderr",
     "output_type": "stream",
     "text": [
      "Token indices sequence length is longer than the specified maximum sequence length for this model (661 > 512). Running this sequence through the model will result in indexing errors\n"
     ]
    },
    {
     "data": {
      "text/plain": [
       "<Figure size 1000x600 with 0 Axes>"
      ]
     },
     "execution_count": 21,
     "metadata": {},
     "output_type": "execute_result"
    },
    {
     "data": {
      "text/plain": [
       "(array([2., 2., 3., ..., 0., 0., 1.]),\n",
       " array([  18.,   19.,   20., ..., 1465., 1466., 1467.]),\n",
       " <BarContainer object of 1449 artists>)"
      ]
     },
     "execution_count": 21,
     "metadata": {},
     "output_type": "execute_result"
    },
    {
     "data": {
      "text/plain": [
       "Text(0.5, 1.0, 'HF Token Count Distribution')"
      ]
     },
     "execution_count": 21,
     "metadata": {},
     "output_type": "execute_result"
    },
    {
     "data": {
      "text/plain": [
       "Text(0.5, 0, 'Token Count')"
      ]
     },
     "execution_count": 21,
     "metadata": {},
     "output_type": "execute_result"
    },
    {
     "data": {
      "text/plain": [
       "Text(0, 0.5, 'Frequency')"
      ]
     },
     "execution_count": 21,
     "metadata": {},
     "output_type": "execute_result"
    },
    {
     "data": {
      "text/plain": [
       "<Figure size 1000x600 with 1 Axes>"
      ],
      "image/png": "[encoded data removed]"
     },
     "metadata": {},
     "output_type": "display_data"
    }
   ],
   "execution_count": 21
  },
  {
   "metadata": {},
   "cell_type": "code",
   "source": [
    "# Load the tokenizer (model_name should be defined, e.g., \"youscan/ukr-roberta-base\")\n",
    "\n",
    "# Compute token count for each row based on 'clean_content'\n",
    "df['hf_token_count'] = df['clean_content'].apply(lambda x: len(tokenizer.tokenize(x)))\n",
    "\n",
    "# For each technique, filter rows where that technique appears and plot token count distribution\n",
    "for technique in technique_list:\n",
    "    # Filter rows where the \"techniques\" column (assumed to be a list) contains the current technique.\n",
    "    subset = df[df['techniques'].apply(lambda techs: technique in techs if isinstance(techs, np.ndarray) else False)]\n",
    "    if subset.empty:\n",
    "        print(f\"No samples found for technique: {technique}\")\n",
    "        continue\n",
    "\n",
    "    plt.figure(figsize=(10, 6))\n",
    "    min_count = int(subset['hf_token_count'].min())\n",
    "    max_count = int(subset['hf_token_count'].max())\n",
    "    bins = range(min_count, max_count + 2)\n",
    "    plt.hist(subset['hf_token_count'], bins=bins, alpha=0.75, edgecolor='black')\n",
    "    plt.title(f\"HF Token Count Distribution for Technique: {technique}\")\n",
    "    plt.xlabel(\"Token Count\")\n",
    "    plt.ylabel(\"Frequency\")\n",
    "    plt.show()\n"
   ],
   "outputs": [],
   "execution_count": null
  },
  {
   "metadata": {
    "ExecuteTime": {
     "end_time": "2025-03-29T14:24:08.946397Z",
     "start_time": "2025-03-29T14:23:50.036109Z"
    }
   },
   "cell_type": "code",
   "source": [
    "# Define tokenizers to compare.\n",
    "# Uncomment or add additional tokenizers as needed.\n",
    "tokenizer_dict = {\n",
    "    \"roberta_base_ukrainian_upos\": AutoTokenizer.from_pretrained(\"KoichiYasuoka/roberta-base-ukrainian-upos\"),\n",
    "    \"uk_ner\": AutoTokenizer.from_pretrained(\"ukr-models/uk-ner\"),\n",
    "    #\"llama2_ukrainian\": AutoTokenizer.from_pretrained(\"tartuNLP/Llama-2-7b-Ukrainian\"),\n",
    "    \"uk_summarizer\": AutoTokenizer.from_pretrained(\"ukr-models/uk-summarizer\"),\n",
    "    \"youscan_ukr_roberta\": AutoTokenizer.from_pretrained(\"youscan/ukr-roberta-base\"),\n",
    "    \"ukr_xlm_roberta_base_uk\": AutoTokenizer.from_pretrained(\"ukr-models/xlm-roberta-base-uk\"),\n",
    "}\n",
    "\n",
    "# (Optional) Print each tokenizer's unknown token id.\n",
    "for name, tok in tokenizer_dict.items():\n",
    "    print(f\"{name} unk_token_id: {tok.unk_token_id}\")\n",
    "\n",
    "df_test = df.copy(deep=True)\n",
    "\n",
    "def compare_tokenizers(text, lang):\n",
    "    results = {}\n",
    "    for name, tok in tokenizer_dict.items():\n",
    "        # Encode text (with special tokens) and convert back to tokens.\n",
    "        token_ids = tok.encode(text, add_special_tokens=True)\n",
    "        tokens = tok.convert_ids_to_tokens(token_ids)\n",
    "        unk_id = tok.unk_token_id\n",
    "        unk_count = token_ids.count(unk_id)\n",
    "        total_tokens = len(token_ids)\n",
    "        unk_ratio = unk_count / total_tokens if total_tokens > 0 else 0\n",
    "\n",
    "        # Save results with a key prefix based on tokenizer name.\n",
    "        results[f\"{name}_tokens\"] = tokens\n",
    "        results[f\"{name}_total_tokens\"] = total_tokens\n",
    "        results[f\"{name}_unk_count\"] = unk_count\n",
    "        results[f\"{name}_unk_ratio\"] = unk_ratio\n",
    "    return pd.Series(results)\n",
    "\n",
    "# Apply the comparison function to each row.\n",
    "df_stats = df_test.apply(lambda row: compare_tokenizers(row['clean_content'], row['lang']), axis=1)\n",
    "df_test = pd.concat([df_test, df_stats], axis=1)\n",
    "\n",
    "# Calculate average unknown ratio for each tokenizer across the dataset.\n",
    "averages = {}\n",
    "for name in tokenizer_dict.keys():\n",
    "    avg_ratio = df_test[f\"{name}_unk_ratio\"].mean()\n",
    "    averages[name] = avg_ratio\n",
    "\n",
    "print(\"\\nAverage Unknown Token Ratio per Tokenizer:\")\n",
    "for name, avg in averages.items():\n",
    "    print(f\"{name}: {avg}\")\n",
    "\n",
    "# Display selected columns with tokenization results.\n",
    "columns_to_display = ['content', 'lang']\n",
    "for name in tokenizer_dict.keys():\n",
    "    columns_to_display.extend([\n",
    "        f\"{name}_tokens\",\n",
    "        f\"{name}_total_tokens\",\n",
    "        f\"{name}_unk_count\",\n",
    "        f\"{name}_unk_ratio\"\n",
    "    ])\n",
    "\n",
    "print(\"\\nTokenization Unknown Analysis:\")\n",
    "df_test[columns_to_display]"
   ],
   "outputs": [
    {
     "name": "stderr",
     "output_type": "stream",
     "text": [
      "Token indices sequence length is longer than the specified maximum sequence length for this model (728 > 512). Running this sequence through the model will result in indexing errors\n",
      "Token indices sequence length is longer than the specified maximum sequence length for this model (663 > 512). Running this sequence through the model will result in indexing errors\n"
     ]
    },
    {
     "name": "stdout",
     "output_type": "stream",
     "text": [
      "roberta_base_ukrainian_upos unk_token_id: 3\n",
      "uk_ner unk_token_id: 3\n",
      "uk_summarizer unk_token_id: 2\n",
      "youscan_ukr_roberta unk_token_id: 3\n",
      "ukr_xlm_roberta_base_uk unk_token_id: 3\n",
      "\n",
      "Average Unknown Token Ratio per Tokenizer:\n",
      "roberta_base_ukrainian_upos: 0.017092124931256975\n",
      "uk_ner: 0.01360112044417496\n",
      "uk_summarizer: 0.012156437846490585\n",
      "youscan_ukr_roberta: 0.0\n",
      "ukr_xlm_roberta_base_uk: 0.01360112044417496\n",
      "\n",
      "Tokenization Unknown Analysis:\n"
     ]
    },
    {
     "data": {
      "text/plain": [
       "                                                                                                  content  \\\n",
       "0     Новий огляд мапи DeepState від російського військового експерта, кухара путіна 2 розряду, спеціа...   \n",
       "1     Недавно 95 квартал жёстко поглумился над русскими баранами, которые притворяются украинцами. Про...   \n",
       "2     🤩\\nТим часом йде евакуація Бєлгородського автовокзалу - він оточений з невідомих простій русні п...   \n",
       "3     В Україні найближчим часом мають намір посилити відповідальність за ухилення від мобілізації та ...   \n",
       "4     Расчёты 122-мм САУ 2С1 \"Гвоздика\" 132-й бригады 1-го АК 8-й армии ЮВО ВС России точным огнем, ко...   \n",
       "...                                                                                                   ...   \n",
       "3817  🤭\\nросія ставить ППО на дахах адмінбудівель\\nросійське керівництво перелякане, що військова пром...   \n",
       "3818  К слову, Бабий не просто «ларечник», а и человек народного депутата СН Дубнова, а Дубнов - родст...   \n",
       "3819  Глава ФСБ Бортников ответил журналистам, почему те, кто совершает преступления против России и р...   \n",
       "3820  В ДНР завозили наркотики в бытовой технике\\nОб этом сообщили в пресс-службе МВД по ДНР.\\nУ предп...   \n",
       "3821  Ще вчора ти \\nпогоджував\\n своєму корешу розпил сотень мільйонів гривень під час окупації. А сьо...   \n",
       "\n",
       "     lang  \\\n",
       "0      uk   \n",
       "1      ru   \n",
       "2      uk   \n",
       "3      uk   \n",
       "4      ru   \n",
       "...   ...   \n",
       "3817   uk   \n",
       "3818   ru   \n",
       "3819   ru   \n",
       "3820   ru   \n",
       "3821   uk   \n",
       "\n",
       "                                                                       roberta_base_ukrainian_upos_tokens  \\\n",
       "0     [[CLS], новий, огляд, мап, ##и, de, ##ep, ##st, ##ate, від, російського, військового, експерт, #...   \n",
       "1     [[CLS], недав, ##но, 95, квартал, ж, ##ё, ##ст, ##ко, пог, ##лум, ##ил, ##ся, над, рус, ##ски, #...   \n",
       "2     [[CLS], [UNK], тим, часом, йде, еваку, ##ація, б, ##є, ##л, ##город, ##ського, авто, ##вок, ##за...   \n",
       "3     [[CLS], в, україн, ##і, найближ, ##чим, часом, мають, намір, посил, ##ити, відповідальність, за,...   \n",
       "4     [[CLS], рас, ##ч, ##ё, ##т, ##ы, 122, -, мм, са, ##у, 2, ##с, ##1, \", г, ##воз, ##дик, ##а, \", 1...   \n",
       "...                                                                                                   ...   \n",
       "3817  [[CLS], [UNK], росія, ставить, п, ##по, на, дах, ##ах, ад, ##мін, ##буд, ##ів, ##ель, російськ, ...   \n",
       "3818  [[CLS], к, слов, ##у, ,, баб, ##ий, не, просто, «, ла, ##ре, ##ч, ##ник, », ,, а, и, чел, ##ове,...   \n",
       "3819  [[CLS], глава, ф, ##сб, борт, ##ников, от, ##вет, ##ил, журнали, ##ста, ##м, ,, поч, ##ему, те, ...   \n",
       "3820  [[CLS], в, д, ##н, ##р, зав, ##ози, ##ли, нарко, ##тики, в, бы, ##тов, ##ой, техн, ##ик, ##е, об...   \n",
       "3821  [[CLS], ще, вч, ##ора, ти, погодж, ##ував, своєму, кор, ##еш, ##у, розп, ##ил, сотень, мільйонів...   \n",
       "\n",
       "      roberta_base_ukrainian_upos_total_tokens  \\\n",
       "0                                           93   \n",
       "1                                          421   \n",
       "2                                           65   \n",
       "3                                          174   \n",
       "4                                           76   \n",
       "...                                        ...   \n",
       "3817                                       137   \n",
       "3818                                        57   \n",
       "3819                                        69   \n",
       "3820                                       115   \n",
       "3821                                        52   \n",
       "\n",
       "      roberta_base_ukrainian_upos_unk_count  \\\n",
       "0                                         0   \n",
       "1                                         2   \n",
       "2                                         3   \n",
       "3                                         4   \n",
       "4                                         0   \n",
       "...                                     ...   \n",
       "3817                                      2   \n",
       "3818                                      0   \n",
       "3819                                      0   \n",
       "3820                                      0   \n",
       "3821                                      0   \n",
       "\n",
       "      roberta_base_ukrainian_upos_unk_ratio  \\\n",
       "0                                  0.000000   \n",
       "1                                  0.004751   \n",
       "2                                  0.046154   \n",
       "3                                  0.022989   \n",
       "4                                  0.000000   \n",
       "...                                     ...   \n",
       "3817                               0.014599   \n",
       "3818                               0.000000   \n",
       "3819                               0.000000   \n",
       "3820                               0.000000   \n",
       "3821                               0.000000   \n",
       "\n",
       "                                                                                            uk_ner_tokens  \\\n",
       "0     [<s>, ▁Новий, ▁огляд, ▁ма, пи, ▁Deep, Stat, e, ▁від, ▁російського, ▁військово, го, ▁експерт, а, ...   \n",
       "1     [<s>, ▁Недавно, ▁95, ▁квартал, ▁ж, ё, ст, ко, ▁по, глу, ми, лся, ▁над, ▁рус, скими, ▁бара, на, м...   \n",
       "2     [<s>, ▁, <unk>, ▁Тим, ▁часом, ▁йде, ▁еваку, ація, ▁Б, є, л, город, ського, ▁авто, вок, за, лу, ▁...   \n",
       "3     [<s>, ▁В, ▁Україні, ▁найближч, им, ▁часом, ▁мають, ▁на, мір, ▁поси, лити, ▁, відповідальність, ▁...   \n",
       "4     [<s>, ▁Рас, ч, ё, ты, ▁122, -, мм, ▁С, АУ, ▁2, С, 1, ▁\", Г, воз, ди, ка, \", ▁132, -, й, ▁бригад,...   \n",
       "...                                                                                                   ...   \n",
       "3817  [<s>, ▁, <unk>, ▁рос, ія, ▁, ставить, ▁П, ПО, ▁на, ▁да, х, ах, ▁ад, мін, буд, ів, ель, ▁рос, ійс...   \n",
       "3818  [<s>, ▁К, ▁слов, у, ,, ▁Баб, ий, ▁не, ▁просто, ▁«, лар, е, чник, »,, ▁а, ▁и, ▁человек, ▁народног...   \n",
       "3819  [<s>, ▁Глава, ▁Ф, СБ, ▁Бор, т, ников, ▁ответ, ил, ▁журнал, иста, м, ,, ▁поче, му, ▁те, ,, ▁кто, ...   \n",
       "3820  [<s>, ▁В, ▁, ДНР, ▁за, воз, или, ▁наркотик, и, ▁в, ▁, быт, овой, ▁тех, нике, ▁Об, ▁это, м, ▁со, ...   \n",
       "3821  [<s>, ▁Ще, ▁вчора, ▁ти, ▁по, год, ж, ував, ▁своєму, ▁коре, шу, ▁роз, пил, ▁сот, ень, ▁мільйонів,...   \n",
       "\n",
       "      uk_ner_total_tokens  uk_ner_unk_count  uk_ner_unk_ratio  \\\n",
       "0                     107                 0          0.000000   \n",
       "1                     368                 0          0.000000   \n",
       "2                      77                 3          0.038961   \n",
       "3                     177                 0          0.000000   \n",
       "4                      69                 0          0.000000   \n",
       "...                   ...               ...               ...   \n",
       "3817                  153                 2          0.013072   \n",
       "3818                   51                 0          0.000000   \n",
       "3819                   57                 0          0.000000   \n",
       "3820                   94                 1          0.010638   \n",
       "3821                   54                 0          0.000000   \n",
       "\n",
       "                                                                                     uk_summarizer_tokens  \\\n",
       "0     [▁Нови, й, ▁, огляд, ▁ма, пи, ▁Deep, S, ta, te, ▁від, ▁, російськ, ого, ▁військов, ого, ▁експерт...   \n",
       "1     [▁Не, давно, ▁95, ▁квартал, ▁ж, ё, ст, ко, ▁погл, ум, ил, ся, ▁над, ▁русск, ими, ▁бара, нами, ,,...   \n",
       "2     [▁, <unk>, ▁Тим, ▁час, ом, ▁, йде, ▁, е, ваку, ація, ▁Б, є, л, город, ського, ▁авто, вокзал, у, ...   \n",
       "3     [▁В, ▁Україн, і, ▁най, ближ, чим, ▁час, ом, ▁, м, ають, ▁на, мір, ▁посил, ити, ▁відповід, альніс...   \n",
       "4     [▁Рас, ч, ё, ты, ▁122, -, мм, ▁С, АУ, ▁2, С, 1, ▁\", Г, возд, ика, \", ▁132, -, й, ▁, бригад, ы, ▁...   \n",
       "...                                                                                                   ...   \n",
       "3817  [▁, <unk>, ▁ро, сія, ▁, ставить, ▁П, ПО, ▁на, ▁да, хах, ▁ад, мін, будів, ель, ▁, російськ, е, ▁к...   \n",
       "3818  [▁К, ▁слов, у, ,, ▁Баб, ий, ▁не, ▁просто, ▁«, лар, ечник, »,, ▁, а, ▁, и, ▁че, лов, ек, ▁народ, ...   \n",
       "3819  [▁, Глава, ▁Ф, СБ, ▁Бор, т, ников, ▁от, вет, ил, ▁журнал, и, стам, ,, ▁поче, му, ▁те, ,, ▁, кто,...   \n",
       "3820  [▁В, ▁Д, НР, ▁заво, зили, ▁наркоти, ки, ▁в, ▁бы, товой, ▁техн, ике, ▁Об, ▁это, м, ▁со, общи, ли,...   \n",
       "3821  [▁Ще, ▁в, чора, ▁ти, ▁погод, ж, ував, ▁сво, єм, у, ▁коре, шу, ▁роз, пил, ▁со, тень, ▁мі, льйон, ...   \n",
       "\n",
       "      uk_summarizer_total_tokens  uk_summarizer_unk_count  \\\n",
       "0                            120                        1   \n",
       "1                            397                        0   \n",
       "2                             81                        2   \n",
       "3                            236                        3   \n",
       "4                             68                        1   \n",
       "...                          ...                      ...   \n",
       "3817                         194                        1   \n",
       "3818                          58                        0   \n",
       "3819                          67                        0   \n",
       "3820                         100                        1   \n",
       "3821                          70                        0   \n",
       "\n",
       "      uk_summarizer_unk_ratio  \\\n",
       "0                    0.008333   \n",
       "1                    0.000000   \n",
       "2                    0.024691   \n",
       "3                    0.012712   \n",
       "4                    0.014706   \n",
       "...                       ...   \n",
       "3817                 0.005155   \n",
       "3818                 0.000000   \n",
       "3819                 0.000000   \n",
       "3820                 0.010000   \n",
       "3821                 0.000000   \n",
       "\n",
       "                                                                               youscan_ukr_roberta_tokens  \\\n",
       "0     [<s>, ÐĿÐ¾Ð²Ð¸Ð¹, ĠÐ¾Ð³Ð»ÑıÐ´, ĠÐ¼Ð°, Ð¿Ð¸, ĠDe, ep, St, ate, ĠÐ²ÑĸÐ´, ĠÑĢÐ¾ÑģÑĸÐ¹ÑģÑĮÐºÐ¾Ð³Ð¾, ...   \n",
       "1     [<s>, ÐĿÐµÐ´, Ð°Ð², Ð½Ð¾, Ġ95, ĠÐºÐ²Ð°ÑĢÑĤÐ°Ð», ĠÐ¶, Ñĳ, ÑģÑĤ, ÐºÐ¾, ĠÐ¿Ð¾Ð³, Ð»Ñĥ, Ð¼Ð¸, Ð»ÑģÑı...   \n",
       "2     [<s>, ðŁ¤©, ĠÐ¢Ð¸Ð¼, ĠÑĩÐ°ÑģÐ¾Ð¼, ĠÐ¹Ð´Ðµ, ĠÐµÐ²Ð°ÐºÑĥ, Ð°ÑĨÑĸÑı, ĠÐĳÑĶ, Ð», Ð³Ð¾ÑĢÐ¾Ð´, ÑģÑĮÐºÐ...   \n",
       "3     [<s>, ÐĴ, ĠÐ£ÐºÑĢÐ°ÑĹÐ½Ñĸ, ĠÐ½Ð°Ð¹Ð±Ð»Ð¸Ð¶ÑĩÐ¸Ð¼, ĠÑĩÐ°ÑģÐ¾Ð¼, ĠÐ¼Ð°ÑİÑĤÑĮ, ĠÐ½Ð°Ð¼ÑĸÑĢ, ĠÐ¿Ð¾Ñģ...   \n",
       "4     [<s>, ÐłÐ°Ñģ, Ñĩ, Ñĳ, ÑĤÑĭ, Ġ122, -, Ð¼Ð¼, ĠÐ¡ÐĲ, Ð£, Ġ2, Ð¡, 1, Ġ\", Ðĵ, Ð²Ð¾Ð·, Ð´Ð¸ÐºÐ°, \", Ġ1...   \n",
       "...                                                                                                   ...   \n",
       "3817  [<s>, ðŁ¤, Ń, ĠÑĢÐ¾ÑģÑĸÑı, ĠÑģÑĤÐ°Ð²Ð¸ÑĤÑĮ, ĠÐŁ, ÐŁÐŀ, ĠÐ½Ð°, ĠÐ´Ð°Ñħ, Ð°Ñħ, ĠÐ°Ð´Ð¼ÑĸÐ½, Ð±ÑĥÐ´...   \n",
       "3818  [<s>, Ðļ, ĠÑģÐ», Ð¾Ð²Ñĥ, ,, ĠÐĳÐ°Ð±Ð¸, Ð¹, ĠÐ½Ðµ, ĠÐ¿ÑĢÐ¾ÑģÑĤÐ¾, ĠÂ«, Ð»Ð°, ÑĢÐµ, ÑĩÐ½Ð¸Ðº, Â»,,...   \n",
       "3819  [<s>, ÐĵÐ»Ð°Ð²Ð°, ĠÐ¤Ð¡Ðĳ, ĠÐĳÐ¾ÑĢÑĤ, Ð½Ð¸ÐºÐ¾Ð², ĠÐ¾ÑĤ, Ð²Ðµ, ÑĤÐ¸Ð», ĠÐ¶ÑĥÑĢÐ½Ð°Ð»Ð¸, ÑģÑĤÐ°Ð¼...   \n",
       "3820  [<s>, ÐĴ, ĠÐĶÐĿÐł, ĠÐ·Ð°Ð², Ð¾Ð·Ð¸Ð»Ð¸, ĠÐ½Ð°ÑĢÐºÐ¾ÑĤÐ¸ÐºÐ¸, ĠÐ², ĠÐ±Ñĭ, ÑĤÐ¾Ð², Ð¾Ð¹, ĠÑĤÐµÑħ, ...   \n",
       "3821  [<s>, Ð©Ðµ, ĠÐ²ÑĩÐ¾ÑĢÐ°, ĠÑĤÐ¸, ĠÐ¿Ð¾Ð³Ð¾Ð´, Ð¶ÑĥÐ²Ð°Ð², ĠÑģÐ²Ð¾ÑĶÐ¼Ñĥ, ĠÐºÐ¾ÑĢÐµ, ÑĪÑĥ, ĠÑĢÐ¾Ð·...   \n",
       "\n",
       "      youscan_ukr_roberta_total_tokens  youscan_ukr_roberta_unk_count  \\\n",
       "0                                   83                              0   \n",
       "1                                  380                              0   \n",
       "2                                   63                              0   \n",
       "3                                  154                              0   \n",
       "4                                   73                              0   \n",
       "...                                ...                            ...   \n",
       "3817                               118                              0   \n",
       "3818                                53                              0   \n",
       "3819                                60                              0   \n",
       "3820                               101                              0   \n",
       "3821                                48                              0   \n",
       "\n",
       "      youscan_ukr_roberta_unk_ratio  \\\n",
       "0                               0.0   \n",
       "1                               0.0   \n",
       "2                               0.0   \n",
       "3                               0.0   \n",
       "4                               0.0   \n",
       "...                             ...   \n",
       "3817                            0.0   \n",
       "3818                            0.0   \n",
       "3819                            0.0   \n",
       "3820                            0.0   \n",
       "3821                            0.0   \n",
       "\n",
       "                                                                           ukr_xlm_roberta_base_uk_tokens  \\\n",
       "0     [<s>, ▁Новий, ▁огляд, ▁ма, пи, ▁Deep, Stat, e, ▁від, ▁російського, ▁військово, го, ▁експерт, а, ...   \n",
       "1     [<s>, ▁Недавно, ▁95, ▁квартал, ▁ж, ё, ст, ко, ▁по, глу, ми, лся, ▁над, ▁рус, скими, ▁бара, на, м...   \n",
       "2     [<s>, ▁, <unk>, ▁Тим, ▁часом, ▁йде, ▁еваку, ація, ▁Б, є, л, город, ського, ▁авто, вок, за, лу, ▁...   \n",
       "3     [<s>, ▁В, ▁Україні, ▁найближч, им, ▁часом, ▁мають, ▁на, мір, ▁поси, лити, ▁, відповідальність, ▁...   \n",
       "4     [<s>, ▁Рас, ч, ё, ты, ▁122, -, мм, ▁С, АУ, ▁2, С, 1, ▁\", Г, воз, ди, ка, \", ▁132, -, й, ▁бригад,...   \n",
       "...                                                                                                   ...   \n",
       "3817  [<s>, ▁, <unk>, ▁рос, ія, ▁, ставить, ▁П, ПО, ▁на, ▁да, х, ах, ▁ад, мін, буд, ів, ель, ▁рос, ійс...   \n",
       "3818  [<s>, ▁К, ▁слов, у, ,, ▁Баб, ий, ▁не, ▁просто, ▁«, лар, е, чник, »,, ▁а, ▁и, ▁человек, ▁народног...   \n",
       "3819  [<s>, ▁Глава, ▁Ф, СБ, ▁Бор, т, ников, ▁ответ, ил, ▁журнал, иста, м, ,, ▁поче, му, ▁те, ,, ▁кто, ...   \n",
       "3820  [<s>, ▁В, ▁, ДНР, ▁за, воз, или, ▁наркотик, и, ▁в, ▁, быт, овой, ▁тех, нике, ▁Об, ▁это, м, ▁со, ...   \n",
       "3821  [<s>, ▁Ще, ▁вчора, ▁ти, ▁по, год, ж, ував, ▁своєму, ▁коре, шу, ▁роз, пил, ▁сот, ень, ▁мільйонів,...   \n",
       "\n",
       "      ukr_xlm_roberta_base_uk_total_tokens  ukr_xlm_roberta_base_uk_unk_count  \\\n",
       "0                                      107                                  0   \n",
       "1                                      368                                  0   \n",
       "2                                       77                                  3   \n",
       "3                                      177                                  0   \n",
       "4                                       69                                  0   \n",
       "...                                    ...                                ...   \n",
       "3817                                   153                                  2   \n",
       "3818                                    51                                  0   \n",
       "3819                                    57                                  0   \n",
       "3820                                    94                                  1   \n",
       "3821                                    54                                  0   \n",
       "\n",
       "      ukr_xlm_roberta_base_uk_unk_ratio  \n",
       "0                              0.000000  \n",
       "1                              0.000000  \n",
       "2                              0.038961  \n",
       "3                              0.000000  \n",
       "4                              0.000000  \n",
       "...                                 ...  \n",
       "3817                           0.013072  \n",
       "3818                           0.000000  \n",
       "3819                           0.000000  \n",
       "3820                           0.010638  \n",
       "3821                           0.000000  \n",
       "\n",
       "[3822 rows x 22 columns]"
      ],
      "text/html": [
       "<div>\n",
       "<style scoped>\n",
       "    .dataframe tbody tr th:only-of-type {\n",
       "        vertical-align: middle;\n",
       "    }\n",
       "\n",
       "    .dataframe tbody tr th {\n",
       "        vertical-align: top;\n",
       "    }\n",
       "\n",
       "    .dataframe thead th {\n",
       "        text-align: right;\n",
       "    }\n",
       "</style>\n",
       "<table border=\"1\" class=\"dataframe\">\n",
       "  <thead>\n",
       "    <tr style=\"text-align: right;\">\n",
       "      <th></th>\n",
       "      <th>content</th>\n",
       "      <th>lang</th>\n",
       "      <th>roberta_base_ukrainian_upos_tokens</th>\n",
       "      <th>roberta_base_ukrainian_upos_total_tokens</th>\n",
       "      <th>roberta_base_ukrainian_upos_unk_count</th>\n",
       "      <th>roberta_base_ukrainian_upos_unk_ratio</th>\n",
       "      <th>uk_ner_tokens</th>\n",
       "      <th>uk_ner_total_tokens</th>\n",
       "      <th>uk_ner_unk_count</th>\n",
       "      <th>uk_ner_unk_ratio</th>\n",
       "      <th>uk_summarizer_tokens</th>\n",
       "      <th>uk_summarizer_total_tokens</th>\n",
       "      <th>uk_summarizer_unk_count</th>\n",
       "      <th>uk_summarizer_unk_ratio</th>\n",
       "      <th>youscan_ukr_roberta_tokens</th>\n",
       "      <th>youscan_ukr_roberta_total_tokens</th>\n",
       "      <th>youscan_ukr_roberta_unk_count</th>\n",
       "      <th>youscan_ukr_roberta_unk_ratio</th>\n",
       "      <th>ukr_xlm_roberta_base_uk_tokens</th>\n",
       "      <th>ukr_xlm_roberta_base_uk_total_tokens</th>\n",
       "      <th>ukr_xlm_roberta_base_uk_unk_count</th>\n",
       "      <th>ukr_xlm_roberta_base_uk_unk_ratio</th>\n",
       "    </tr>\n",
       "  </thead>\n",
       "  <tbody>\n",
       "    <tr>\n",
       "      <th>0</th>\n",
       "      <td>Новий огляд мапи DeepState від російського військового експерта, кухара путіна 2 розряду, спеціа...</td>\n",
       "      <td>uk</td>\n",
       "      <td>[[CLS], новий, огляд, мап, ##и, de, ##ep, ##st, ##ate, від, російського, військового, експерт, #...</td>\n",
       "      <td>93</td>\n",
       "      <td>0</td>\n",
       "      <td>0.000000</td>\n",
       "      <td>[&lt;s&gt;, ▁Новий, ▁огляд, ▁ма, пи, ▁Deep, Stat, e, ▁від, ▁російського, ▁військово, го, ▁експерт, а, ...</td>\n",
       "      <td>107</td>\n",
       "      <td>0</td>\n",
       "      <td>0.000000</td>\n",
       "      <td>[▁Нови, й, ▁, огляд, ▁ма, пи, ▁Deep, S, ta, te, ▁від, ▁, російськ, ого, ▁військов, ого, ▁експерт...</td>\n",
       "      <td>120</td>\n",
       "      <td>1</td>\n",
       "      <td>0.008333</td>\n",
       "      <td>[&lt;s&gt;, ÐĿÐ¾Ð²Ð¸Ð¹, ĠÐ¾Ð³Ð»ÑıÐ´, ĠÐ¼Ð°, Ð¿Ð¸, ĠDe, ep, St, ate, ĠÐ²ÑĸÐ´, ĠÑĢÐ¾ÑģÑĸÐ¹ÑģÑĮÐºÐ¾Ð³Ð¾, ...</td>\n",
       "      <td>83</td>\n",
       "      <td>0</td>\n",
       "      <td>0.0</td>\n",
       "      <td>[&lt;s&gt;, ▁Новий, ▁огляд, ▁ма, пи, ▁Deep, Stat, e, ▁від, ▁російського, ▁військово, го, ▁експерт, а, ...</td>\n",
       "      <td>107</td>\n",
       "      <td>0</td>\n",
       "      <td>0.000000</td>\n",
       "    </tr>\n",
       "    <tr>\n",
       "      <th>1</th>\n",
       "      <td>Недавно 95 квартал жёстко поглумился над русскими баранами, которые притворяются украинцами. Про...</td>\n",
       "      <td>ru</td>\n",
       "      <td>[[CLS], недав, ##но, 95, квартал, ж, ##ё, ##ст, ##ко, пог, ##лум, ##ил, ##ся, над, рус, ##ски, #...</td>\n",
       "      <td>421</td>\n",
       "      <td>2</td>\n",
       "      <td>0.004751</td>\n",
       "      <td>[&lt;s&gt;, ▁Недавно, ▁95, ▁квартал, ▁ж, ё, ст, ко, ▁по, глу, ми, лся, ▁над, ▁рус, скими, ▁бара, на, м...</td>\n",
       "      <td>368</td>\n",
       "      <td>0</td>\n",
       "      <td>0.000000</td>\n",
       "      <td>[▁Не, давно, ▁95, ▁квартал, ▁ж, ё, ст, ко, ▁погл, ум, ил, ся, ▁над, ▁русск, ими, ▁бара, нами, ,,...</td>\n",
       "      <td>397</td>\n",
       "      <td>0</td>\n",
       "      <td>0.000000</td>\n",
       "      <td>[&lt;s&gt;, ÐĿÐµÐ´, Ð°Ð², Ð½Ð¾, Ġ95, ĠÐºÐ²Ð°ÑĢÑĤÐ°Ð», ĠÐ¶, Ñĳ, ÑģÑĤ, ÐºÐ¾, ĠÐ¿Ð¾Ð³, Ð»Ñĥ, Ð¼Ð¸, Ð»ÑģÑı...</td>\n",
       "      <td>380</td>\n",
       "      <td>0</td>\n",
       "      <td>0.0</td>\n",
       "      <td>[&lt;s&gt;, ▁Недавно, ▁95, ▁квартал, ▁ж, ё, ст, ко, ▁по, глу, ми, лся, ▁над, ▁рус, скими, ▁бара, на, м...</td>\n",
       "      <td>368</td>\n",
       "      <td>0</td>\n",
       "      <td>0.000000</td>\n",
       "    </tr>\n",
       "    <tr>\n",
       "      <th>2</th>\n",
       "      <td>🤩\\nТим часом йде евакуація Бєлгородського автовокзалу - він оточений з невідомих простій русні п...</td>\n",
       "      <td>uk</td>\n",
       "      <td>[[CLS], [UNK], тим, часом, йде, еваку, ##ація, б, ##є, ##л, ##город, ##ського, авто, ##вок, ##за...</td>\n",
       "      <td>65</td>\n",
       "      <td>3</td>\n",
       "      <td>0.046154</td>\n",
       "      <td>[&lt;s&gt;, ▁, &lt;unk&gt;, ▁Тим, ▁часом, ▁йде, ▁еваку, ація, ▁Б, є, л, город, ського, ▁авто, вок, за, лу, ▁...</td>\n",
       "      <td>77</td>\n",
       "      <td>3</td>\n",
       "      <td>0.038961</td>\n",
       "      <td>[▁, &lt;unk&gt;, ▁Тим, ▁час, ом, ▁, йде, ▁, е, ваку, ація, ▁Б, є, л, город, ського, ▁авто, вокзал, у, ...</td>\n",
       "      <td>81</td>\n",
       "      <td>2</td>\n",
       "      <td>0.024691</td>\n",
       "      <td>[&lt;s&gt;, ðŁ¤©, ĠÐ¢Ð¸Ð¼, ĠÑĩÐ°ÑģÐ¾Ð¼, ĠÐ¹Ð´Ðµ, ĠÐµÐ²Ð°ÐºÑĥ, Ð°ÑĨÑĸÑı, ĠÐĳÑĶ, Ð», Ð³Ð¾ÑĢÐ¾Ð´, ÑģÑĮÐºÐ...</td>\n",
       "      <td>63</td>\n",
       "      <td>0</td>\n",
       "      <td>0.0</td>\n",
       "      <td>[&lt;s&gt;, ▁, &lt;unk&gt;, ▁Тим, ▁часом, ▁йде, ▁еваку, ація, ▁Б, є, л, город, ського, ▁авто, вок, за, лу, ▁...</td>\n",
       "      <td>77</td>\n",
       "      <td>3</td>\n",
       "      <td>0.038961</td>\n",
       "    </tr>\n",
       "    <tr>\n",
       "      <th>3</th>\n",
       "      <td>В Україні найближчим часом мають намір посилити відповідальність за ухилення від мобілізації та ...</td>\n",
       "      <td>uk</td>\n",
       "      <td>[[CLS], в, україн, ##і, найближ, ##чим, часом, мають, намір, посил, ##ити, відповідальність, за,...</td>\n",
       "      <td>174</td>\n",
       "      <td>4</td>\n",
       "      <td>0.022989</td>\n",
       "      <td>[&lt;s&gt;, ▁В, ▁Україні, ▁найближч, им, ▁часом, ▁мають, ▁на, мір, ▁поси, лити, ▁, відповідальність, ▁...</td>\n",
       "      <td>177</td>\n",
       "      <td>0</td>\n",
       "      <td>0.000000</td>\n",
       "      <td>[▁В, ▁Україн, і, ▁най, ближ, чим, ▁час, ом, ▁, м, ають, ▁на, мір, ▁посил, ити, ▁відповід, альніс...</td>\n",
       "      <td>236</td>\n",
       "      <td>3</td>\n",
       "      <td>0.012712</td>\n",
       "      <td>[&lt;s&gt;, ÐĴ, ĠÐ£ÐºÑĢÐ°ÑĹÐ½Ñĸ, ĠÐ½Ð°Ð¹Ð±Ð»Ð¸Ð¶ÑĩÐ¸Ð¼, ĠÑĩÐ°ÑģÐ¾Ð¼, ĠÐ¼Ð°ÑİÑĤÑĮ, ĠÐ½Ð°Ð¼ÑĸÑĢ, ĠÐ¿Ð¾Ñģ...</td>\n",
       "      <td>154</td>\n",
       "      <td>0</td>\n",
       "      <td>0.0</td>\n",
       "      <td>[&lt;s&gt;, ▁В, ▁Україні, ▁найближч, им, ▁часом, ▁мають, ▁на, мір, ▁поси, лити, ▁, відповідальність, ▁...</td>\n",
       "      <td>177</td>\n",
       "      <td>0</td>\n",
       "      <td>0.000000</td>\n",
       "    </tr>\n",
       "    <tr>\n",
       "      <th>4</th>\n",
       "      <td>Расчёты 122-мм САУ 2С1 \"Гвоздика\" 132-й бригады 1-го АК 8-й армии ЮВО ВС России точным огнем, ко...</td>\n",
       "      <td>ru</td>\n",
       "      <td>[[CLS], рас, ##ч, ##ё, ##т, ##ы, 122, -, мм, са, ##у, 2, ##с, ##1, \", г, ##воз, ##дик, ##а, \", 1...</td>\n",
       "      <td>76</td>\n",
       "      <td>0</td>\n",
       "      <td>0.000000</td>\n",
       "      <td>[&lt;s&gt;, ▁Рас, ч, ё, ты, ▁122, -, мм, ▁С, АУ, ▁2, С, 1, ▁\", Г, воз, ди, ка, \", ▁132, -, й, ▁бригад,...</td>\n",
       "      <td>69</td>\n",
       "      <td>0</td>\n",
       "      <td>0.000000</td>\n",
       "      <td>[▁Рас, ч, ё, ты, ▁122, -, мм, ▁С, АУ, ▁2, С, 1, ▁\", Г, возд, ика, \", ▁132, -, й, ▁, бригад, ы, ▁...</td>\n",
       "      <td>68</td>\n",
       "      <td>1</td>\n",
       "      <td>0.014706</td>\n",
       "      <td>[&lt;s&gt;, ÐłÐ°Ñģ, Ñĩ, Ñĳ, ÑĤÑĭ, Ġ122, -, Ð¼Ð¼, ĠÐ¡ÐĲ, Ð£, Ġ2, Ð¡, 1, Ġ\", Ðĵ, Ð²Ð¾Ð·, Ð´Ð¸ÐºÐ°, \", Ġ1...</td>\n",
       "      <td>73</td>\n",
       "      <td>0</td>\n",
       "      <td>0.0</td>\n",
       "      <td>[&lt;s&gt;, ▁Рас, ч, ё, ты, ▁122, -, мм, ▁С, АУ, ▁2, С, 1, ▁\", Г, воз, ди, ка, \", ▁132, -, й, ▁бригад,...</td>\n",
       "      <td>69</td>\n",
       "      <td>0</td>\n",
       "      <td>0.000000</td>\n",
       "    </tr>\n",
       "    <tr>\n",
       "      <th>...</th>\n",
       "      <td>...</td>\n",
       "      <td>...</td>\n",
       "      <td>...</td>\n",
       "      <td>...</td>\n",
       "      <td>...</td>\n",
       "      <td>...</td>\n",
       "      <td>...</td>\n",
       "      <td>...</td>\n",
       "      <td>...</td>\n",
       "      <td>...</td>\n",
       "      <td>...</td>\n",
       "      <td>...</td>\n",
       "      <td>...</td>\n",
       "      <td>...</td>\n",
       "      <td>...</td>\n",
       "      <td>...</td>\n",
       "      <td>...</td>\n",
       "      <td>...</td>\n",
       "      <td>...</td>\n",
       "      <td>...</td>\n",
       "      <td>...</td>\n",
       "      <td>...</td>\n",
       "    </tr>\n",
       "    <tr>\n",
       "      <th>3817</th>\n",
       "      <td>🤭\\nросія ставить ППО на дахах адмінбудівель\\nросійське керівництво перелякане, що військова пром...</td>\n",
       "      <td>uk</td>\n",
       "      <td>[[CLS], [UNK], росія, ставить, п, ##по, на, дах, ##ах, ад, ##мін, ##буд, ##ів, ##ель, російськ, ...</td>\n",
       "      <td>137</td>\n",
       "      <td>2</td>\n",
       "      <td>0.014599</td>\n",
       "      <td>[&lt;s&gt;, ▁, &lt;unk&gt;, ▁рос, ія, ▁, ставить, ▁П, ПО, ▁на, ▁да, х, ах, ▁ад, мін, буд, ів, ель, ▁рос, ійс...</td>\n",
       "      <td>153</td>\n",
       "      <td>2</td>\n",
       "      <td>0.013072</td>\n",
       "      <td>[▁, &lt;unk&gt;, ▁ро, сія, ▁, ставить, ▁П, ПО, ▁на, ▁да, хах, ▁ад, мін, будів, ель, ▁, російськ, е, ▁к...</td>\n",
       "      <td>194</td>\n",
       "      <td>1</td>\n",
       "      <td>0.005155</td>\n",
       "      <td>[&lt;s&gt;, ðŁ¤, Ń, ĠÑĢÐ¾ÑģÑĸÑı, ĠÑģÑĤÐ°Ð²Ð¸ÑĤÑĮ, ĠÐŁ, ÐŁÐŀ, ĠÐ½Ð°, ĠÐ´Ð°Ñħ, Ð°Ñħ, ĠÐ°Ð´Ð¼ÑĸÐ½, Ð±ÑĥÐ´...</td>\n",
       "      <td>118</td>\n",
       "      <td>0</td>\n",
       "      <td>0.0</td>\n",
       "      <td>[&lt;s&gt;, ▁, &lt;unk&gt;, ▁рос, ія, ▁, ставить, ▁П, ПО, ▁на, ▁да, х, ах, ▁ад, мін, буд, ів, ель, ▁рос, ійс...</td>\n",
       "      <td>153</td>\n",
       "      <td>2</td>\n",
       "      <td>0.013072</td>\n",
       "    </tr>\n",
       "    <tr>\n",
       "      <th>3818</th>\n",
       "      <td>К слову, Бабий не просто «ларечник», а и человек народного депутата СН Дубнова, а Дубнов - родст...</td>\n",
       "      <td>ru</td>\n",
       "      <td>[[CLS], к, слов, ##у, ,, баб, ##ий, не, просто, «, ла, ##ре, ##ч, ##ник, », ,, а, и, чел, ##ове,...</td>\n",
       "      <td>57</td>\n",
       "      <td>0</td>\n",
       "      <td>0.000000</td>\n",
       "      <td>[&lt;s&gt;, ▁К, ▁слов, у, ,, ▁Баб, ий, ▁не, ▁просто, ▁«, лар, е, чник, »,, ▁а, ▁и, ▁человек, ▁народног...</td>\n",
       "      <td>51</td>\n",
       "      <td>0</td>\n",
       "      <td>0.000000</td>\n",
       "      <td>[▁К, ▁слов, у, ,, ▁Баб, ий, ▁не, ▁просто, ▁«, лар, ечник, »,, ▁, а, ▁, и, ▁че, лов, ек, ▁народ, ...</td>\n",
       "      <td>58</td>\n",
       "      <td>0</td>\n",
       "      <td>0.000000</td>\n",
       "      <td>[&lt;s&gt;, Ðļ, ĠÑģÐ», Ð¾Ð²Ñĥ, ,, ĠÐĳÐ°Ð±Ð¸, Ð¹, ĠÐ½Ðµ, ĠÐ¿ÑĢÐ¾ÑģÑĤÐ¾, ĠÂ«, Ð»Ð°, ÑĢÐµ, ÑĩÐ½Ð¸Ðº, Â»,,...</td>\n",
       "      <td>53</td>\n",
       "      <td>0</td>\n",
       "      <td>0.0</td>\n",
       "      <td>[&lt;s&gt;, ▁К, ▁слов, у, ,, ▁Баб, ий, ▁не, ▁просто, ▁«, лар, е, чник, »,, ▁а, ▁и, ▁человек, ▁народног...</td>\n",
       "      <td>51</td>\n",
       "      <td>0</td>\n",
       "      <td>0.000000</td>\n",
       "    </tr>\n",
       "    <tr>\n",
       "      <th>3819</th>\n",
       "      <td>Глава ФСБ Бортников ответил журналистам, почему те, кто совершает преступления против России и р...</td>\n",
       "      <td>ru</td>\n",
       "      <td>[[CLS], глава, ф, ##сб, борт, ##ников, от, ##вет, ##ил, журнали, ##ста, ##м, ,, поч, ##ему, те, ...</td>\n",
       "      <td>69</td>\n",
       "      <td>0</td>\n",
       "      <td>0.000000</td>\n",
       "      <td>[&lt;s&gt;, ▁Глава, ▁Ф, СБ, ▁Бор, т, ников, ▁ответ, ил, ▁журнал, иста, м, ,, ▁поче, му, ▁те, ,, ▁кто, ...</td>\n",
       "      <td>57</td>\n",
       "      <td>0</td>\n",
       "      <td>0.000000</td>\n",
       "      <td>[▁, Глава, ▁Ф, СБ, ▁Бор, т, ников, ▁от, вет, ил, ▁журнал, и, стам, ,, ▁поче, му, ▁те, ,, ▁, кто,...</td>\n",
       "      <td>67</td>\n",
       "      <td>0</td>\n",
       "      <td>0.000000</td>\n",
       "      <td>[&lt;s&gt;, ÐĵÐ»Ð°Ð²Ð°, ĠÐ¤Ð¡Ðĳ, ĠÐĳÐ¾ÑĢÑĤ, Ð½Ð¸ÐºÐ¾Ð², ĠÐ¾ÑĤ, Ð²Ðµ, ÑĤÐ¸Ð», ĠÐ¶ÑĥÑĢÐ½Ð°Ð»Ð¸, ÑģÑĤÐ°Ð¼...</td>\n",
       "      <td>60</td>\n",
       "      <td>0</td>\n",
       "      <td>0.0</td>\n",
       "      <td>[&lt;s&gt;, ▁Глава, ▁Ф, СБ, ▁Бор, т, ников, ▁ответ, ил, ▁журнал, иста, м, ,, ▁поче, му, ▁те, ,, ▁кто, ...</td>\n",
       "      <td>57</td>\n",
       "      <td>0</td>\n",
       "      <td>0.000000</td>\n",
       "    </tr>\n",
       "    <tr>\n",
       "      <th>3820</th>\n",
       "      <td>В ДНР завозили наркотики в бытовой технике\\nОб этом сообщили в пресс-службе МВД по ДНР.\\nУ предп...</td>\n",
       "      <td>ru</td>\n",
       "      <td>[[CLS], в, д, ##н, ##р, зав, ##ози, ##ли, нарко, ##тики, в, бы, ##тов, ##ой, техн, ##ик, ##е, об...</td>\n",
       "      <td>115</td>\n",
       "      <td>0</td>\n",
       "      <td>0.000000</td>\n",
       "      <td>[&lt;s&gt;, ▁В, ▁, ДНР, ▁за, воз, или, ▁наркотик, и, ▁в, ▁, быт, овой, ▁тех, нике, ▁Об, ▁это, м, ▁со, ...</td>\n",
       "      <td>94</td>\n",
       "      <td>1</td>\n",
       "      <td>0.010638</td>\n",
       "      <td>[▁В, ▁Д, НР, ▁заво, зили, ▁наркоти, ки, ▁в, ▁бы, товой, ▁техн, ике, ▁Об, ▁это, м, ▁со, общи, ли,...</td>\n",
       "      <td>100</td>\n",
       "      <td>1</td>\n",
       "      <td>0.010000</td>\n",
       "      <td>[&lt;s&gt;, ÐĴ, ĠÐĶÐĿÐł, ĠÐ·Ð°Ð², Ð¾Ð·Ð¸Ð»Ð¸, ĠÐ½Ð°ÑĢÐºÐ¾ÑĤÐ¸ÐºÐ¸, ĠÐ², ĠÐ±Ñĭ, ÑĤÐ¾Ð², Ð¾Ð¹, ĠÑĤÐµÑħ, ...</td>\n",
       "      <td>101</td>\n",
       "      <td>0</td>\n",
       "      <td>0.0</td>\n",
       "      <td>[&lt;s&gt;, ▁В, ▁, ДНР, ▁за, воз, или, ▁наркотик, и, ▁в, ▁, быт, овой, ▁тех, нике, ▁Об, ▁это, м, ▁со, ...</td>\n",
       "      <td>94</td>\n",
       "      <td>1</td>\n",
       "      <td>0.010638</td>\n",
       "    </tr>\n",
       "    <tr>\n",
       "      <th>3821</th>\n",
       "      <td>Ще вчора ти \\nпогоджував\\n своєму корешу розпил сотень мільйонів гривень під час окупації. А сьо...</td>\n",
       "      <td>uk</td>\n",
       "      <td>[[CLS], ще, вч, ##ора, ти, погодж, ##ував, своєму, кор, ##еш, ##у, розп, ##ил, сотень, мільйонів...</td>\n",
       "      <td>52</td>\n",
       "      <td>0</td>\n",
       "      <td>0.000000</td>\n",
       "      <td>[&lt;s&gt;, ▁Ще, ▁вчора, ▁ти, ▁по, год, ж, ував, ▁своєму, ▁коре, шу, ▁роз, пил, ▁сот, ень, ▁мільйонів,...</td>\n",
       "      <td>54</td>\n",
       "      <td>0</td>\n",
       "      <td>0.000000</td>\n",
       "      <td>[▁Ще, ▁в, чора, ▁ти, ▁погод, ж, ував, ▁сво, єм, у, ▁коре, шу, ▁роз, пил, ▁со, тень, ▁мі, льйон, ...</td>\n",
       "      <td>70</td>\n",
       "      <td>0</td>\n",
       "      <td>0.000000</td>\n",
       "      <td>[&lt;s&gt;, Ð©Ðµ, ĠÐ²ÑĩÐ¾ÑĢÐ°, ĠÑĤÐ¸, ĠÐ¿Ð¾Ð³Ð¾Ð´, Ð¶ÑĥÐ²Ð°Ð², ĠÑģÐ²Ð¾ÑĶÐ¼Ñĥ, ĠÐºÐ¾ÑĢÐµ, ÑĪÑĥ, ĠÑĢÐ¾Ð·...</td>\n",
       "      <td>48</td>\n",
       "      <td>0</td>\n",
       "      <td>0.0</td>\n",
       "      <td>[&lt;s&gt;, ▁Ще, ▁вчора, ▁ти, ▁по, год, ж, ував, ▁своєму, ▁коре, шу, ▁роз, пил, ▁сот, ень, ▁мільйонів,...</td>\n",
       "      <td>54</td>\n",
       "      <td>0</td>\n",
       "      <td>0.000000</td>\n",
       "    </tr>\n",
       "  </tbody>\n",
       "</table>\n",
       "<p>3822 rows × 22 columns</p>\n",
       "</div>"
      ]
     },
     "execution_count": 23,
     "metadata": {},
     "output_type": "execute_result"
    }
   ],
   "execution_count": 23
  },
  {
   "metadata": {
    "ExecuteTime": {
     "end_time": "2025-03-29T14:24:09.210535Z",
     "start_time": "2025-03-29T14:24:08.981399Z"
    }
   },
   "cell_type": "code",
   "source": "df_test['youscan_ukr_roberta_total_tokens'].describe()",
   "outputs": [
    {
     "data": {
      "text/plain": [
       "count    3822.000000\n",
       "mean      166.577185\n",
       "std       166.490375\n",
       "min        20.000000\n",
       "25%        65.000000\n",
       "50%       117.000000\n",
       "75%       197.750000\n",
       "max      1468.000000\n",
       "Name: youscan_ukr_roberta_total_tokens, dtype: float64"
      ]
     },
     "execution_count": 24,
     "metadata": {},
     "output_type": "execute_result"
    }
   ],
   "execution_count": 24
  },
  {
   "metadata": {},
   "cell_type": "markdown",
   "source": "# Model development"
  },
  {
   "cell_type": "code",
   "source": [
    "# Apply cleaning to the 'content' column and create a new column 'clean_content'\n",
    "df['clean_content'] = df['content'].apply(clean_text)\n",
    "\n",
    "# Show an example of cleaned content\n",
    "print(\"Example of Cleaned Content (Row 0):\")\n",
    "print(df.loc[0, 'clean_content'])\n"
   ],
   "metadata": {
    "colab": {
     "base_uri": "https://localhost:8080/"
    },
    "id": "Pe4RmBrXCBcN",
    "outputId": "13b501ad-86dd-4b6a-cecf-8eef2a12f0ee",
    "ExecuteTime": {
     "end_time": "2025-03-29T14:24:09.631912Z",
     "start_time": "2025-03-29T14:24:09.256537Z"
    }
   },
   "outputs": [
    {
     "name": "stdout",
     "output_type": "stream",
     "text": [
      "Example of Cleaned Content (Row 0):\n",
      "Новий огляд мапи DeepState від російського військового експерта, кухара путіна 2 розряду, спеціаліста по снарядному голоду та ректора музичної академії міноборони рф Євгєнія Пригожина. Пригожин прогнозує, що невдовзі настане день звільнення Криму і день розпаду росії. Каже, що передумови цього вже створені. *Відео взяли з каналу ФД . @informnapalm\n"
     ]
    }
   ],
   "execution_count": 25
  },
  {
   "cell_type": "code",
   "source": [
    "tokenizer = AutoTokenizer.from_pretrained(model_name)\n",
    "\n",
    "# Test the tokenizer on the cleaned text from the first row\n",
    "sample_text = df.loc[0, 'clean_content']\n",
    "print(\"Sample text:\")\n",
    "print(sample_text)\n"
   ],
   "metadata": {
    "colab": {
     "base_uri": "https://localhost:8080/",
     "height": 304,
     "referenced_widgets": [
      "951566df541245aa997b03df458cf7c2",
      "22c1c99bc0874fec833ebf36fe51efa2",
      "2539174f2ca349e9b43c57770f5d45b1",
      "99195a7fe4de4721927030f7abd600e1",
      "249341704f1b4fd1a8879855e9cbbd4c",
      "7ee8e69fd8b34b9cacd56d9401ad5826",
      "540b366d46b940c3ab6974c56764015b",
      "eed55d8e30d24054a7c34519e52fa1f9",
      "376b20006a294b8f8b314ca87b90a35a",
      "4262b20e6586487590a5c2f0b36efae5",
      "6a64fad5811d4ac3806a8924002b2257",
      "22289081ec2f457abd9fe5f5a121b0ad",
      "51d373c699f74393af54e11b863fa816",
      "8b88bf638be3466796d5d61c1a2c8d52",
      "8bef8d81562745079f138f2c2e1446ff",
      "972c21b5e30b412db01aacdabcfc17a4",
      "3bf82580c719413d840ebfa3e67c8b50",
      "77e8752990734c1284d8c20ba61b0cbf",
      "be6fb2152c7f47aa92bf018472fe7000",
      "552c4102e3e94101806a7212eaab2c78",
      "4cbfbf36b60349fdb4a5dbf39aafa125",
      "0c40104e87184c80bb7e4f56046fe6c0",
      "314c727c514343e09bb7f6fa0ceb70f2",
      "93f4c1e128e441b898cb320ef39359fa",
      "72365f228c194f529e4c6085ef2be716",
      "54767681c204491e842be8897bf62e04",
      "ccb98b7f815c4d878525fb713da5f627",
      "6d59329e47694748aeb13ad6f33b4d16",
      "daf63be9a369478abb6bd72a85586e2b",
      "351b0abef4a74d379ab6c971bca1e44f",
      "bda4ea5a68b641f6aef5b008f476db48",
      "9551c52d98e845439dc816516df9bc23",
      "d3ce16945b514a79ab3d9c6ec33c8530",
      "b12ffba3293b4bc9ab16bd58a3eb92e2",
      "9452b4e1e66847509bd8ff001d5d7a50",
      "489202d58eac4a2f8a118bd9afefe94c",
      "3d6c3798ad504a9c90176a1b29155f2a",
      "336c1034165b48c2944209bf46bb7246",
      "6a5fa98c9f974d73a19a33ff53689159",
      "dbd1ce2ace0743609a07ef540e7ed103",
      "ed550bf7f50140b7be37eeb63dd9d030",
      "95ac20ffde084783aed584663fcf522d",
      "97af314849254cfaa24662133e22fa96",
      "c0c340995ec74f108e6b81aac6618d69"
     ]
    },
    "id": "7PZw-PeIo5R6",
    "outputId": "aee94304-1d30-4d45-ca06-641aa7f1c565",
    "ExecuteTime": {
     "end_time": "2025-03-29T14:24:10.175250Z",
     "start_time": "2025-03-29T14:24:09.654915Z"
    }
   },
   "outputs": [
    {
     "name": "stdout",
     "output_type": "stream",
     "text": [
      "Sample text:\n",
      "Новий огляд мапи DeepState від російського військового експерта, кухара путіна 2 розряду, спеціаліста по снарядному голоду та ректора музичної академії міноборони рф Євгєнія Пригожина. Пригожин прогнозує, що невдовзі настане день звільнення Криму і день розпаду росії. Каже, що передумови цього вже створені. *Відео взяли з каналу ФД . @informnapalm\n"
     ]
    }
   ],
   "execution_count": 26
  },
  {
   "cell_type": "code",
   "source": [
    "# Tokenize the sample text\n",
    "tokens = tokenizer.tokenize(sample_text)\n",
    "print(\"Tokenized output (list of tokens):\")\n",
    "print(tokens)\n",
    "\n",
    "# Reconstruct a human-readable string from tokens\n",
    "reconstructed = tokenizer.convert_tokens_to_string(tokens)\n",
    "print(\"Reconstructed text from tokens:\")\n",
    "print(reconstructed)"
   ],
   "metadata": {
    "colab": {
     "base_uri": "https://localhost:8080/"
    },
    "id": "9_OhT6jgpA5F",
    "outputId": "7ec42324-5869-46db-e3d7-4c9cba87cb0e"
   },
   "outputs": [],
   "execution_count": null
  },
  {
   "cell_type": "code",
   "source": [
    "# Define a tokenization function using the Hugging Face tokenizer\n",
    "def hf_tokenize(text):\n",
    "    # Tokenize the cleaned text using the pretrained Ukrainian tokenizer\n",
    "    tokens = tokenizer.tokenize(text)\n",
    "    return tokens\n",
    "\n",
    "# Apply the Hugging Face tokenization to the cleaned content\n",
    "df['hf_tokens'] = df['clean_content'].apply(hf_tokenize)\n",
    "df['hf_token_count'] = df['hf_tokens'].apply(len)\n",
    "\n",
    "# Show token count statistics\n",
    "print(\"Token Count Statistics (Hugging Face Tokenizer):\")\n",
    "print(df['hf_token_count'].describe())\n",
    "\n",
    "# Display an example of tokenized content for the first row\n",
    "print(\"\\nHugging Face Tokens in Row 0:\")\n",
    "print(df.loc[0, 'hf_tokens'])\n"
   ],
   "metadata": {
    "colab": {
     "base_uri": "https://localhost:8080/"
    },
    "id": "57viXLqeCPxJ",
    "outputId": "53668eac-d964-4fc9-bd9e-24e634571e45"
   },
   "outputs": [],
   "execution_count": null
  },
  {
   "cell_type": "code",
   "source": [
    "# For reproducibility\n",
    "# stratification sklearn?\n",
    "train_df, val_df = train_test_split(df, test_size=0.2, random_state=42)\n",
    "\n",
    "print(\"Training samples:\", len(train_df))\n",
    "print(\"Validation samples:\", len(val_df))\n"
   ],
   "metadata": {
    "colab": {
     "base_uri": "https://localhost:8080/"
    },
    "id": "vRPsO3SusOa1",
    "outputId": "da0162bc-e3aa-443e-d910-6890504fc25c",
    "ExecuteTime": {
     "end_time": "2025-03-29T14:24:13.698670Z",
     "start_time": "2025-03-29T14:24:13.476451Z"
    }
   },
   "outputs": [
    {
     "name": "stdout",
     "output_type": "stream",
     "text": [
      "Training samples: 3057\n",
      "Validation samples: 765\n"
     ]
    }
   ],
   "execution_count": 29
  },
  {
   "metadata": {
    "ExecuteTime": {
     "end_time": "2025-03-29T14:24:13.966387Z",
     "start_time": "2025-03-29T14:24:13.727670Z"
    }
   },
   "cell_type": "code",
   "source": [
    "def parse_techniques(techniques):\n",
    "    if techniques is None:\n",
    "        return []\n",
    "    if isinstance(techniques, str):\n",
    "        if techniques.strip() == \"\":\n",
    "            return []\n",
    "        try:\n",
    "            return ast.literal_eval(techniques)\n",
    "        except Exception as e:\n",
    "            print(\"Error parsing techniques:\", techniques, e)\n",
    "            return []\n",
    "    # If techniques is already an iterable (e.g., list or numpy array), convert it to a list.\n",
    "    try:\n",
    "        return list(techniques)\n",
    "    except TypeError:\n",
    "        return techniques\n",
    "\n",
    "df['techniques_parsed'] = df['techniques'].apply(parse_techniques)\n",
    "\n",
    "# Dynamically compute the full set of techniques from the training set.\n",
    "all_techniques = set()\n",
    "for tech_list in df['techniques_parsed']:\n",
    "    all_techniques.update(tech_list)\n",
    "all_techniques = sorted(all_techniques)  # Sorted order for consistency\n",
    "\n",
    "# Initialize the MultiLabelBinarizer with the full set of techniques.\n",
    "mlb = MultiLabelBinarizer(classes=all_techniques)\n",
    "\n",
    "# Fit and transform the training set; transform the validation set.\n",
    "labels = mlb.fit_transform(df['techniques_parsed'])\n",
    "\n",
    "# Add the binary label vectors as a new column ('labels') in the DataFrames.\n",
    "df['labels_vector'] = list(labels)\n",
    "\n",
    "# Inspect a sample.\n",
    "print(\"Sample multilabel vector from training set:\", df.iloc[0]['labels_vector'])\n",
    "df[['techniques', 'labels_vector']]"
   ],
   "outputs": [
    {
     "name": "stdout",
     "output_type": "stream",
     "text": [
      "Sample multilabel vector from training set: [0 0 0 0 1 0 0 1 0 0]\n"
     ]
    },
    {
     "data": {
      "text/plain": [
       "                                   techniques                   labels_vector\n",
       "0                 [euphoria, loaded_language]  [0, 0, 0, 0, 1, 0, 0, 1, 0, 0]\n",
       "1           [loaded_language, cherry_picking]  [0, 0, 1, 0, 0, 0, 0, 1, 0, 0]\n",
       "2                 [loaded_language, euphoria]  [0, 0, 0, 0, 1, 0, 0, 1, 0, 0]\n",
       "3                                        None  [0, 0, 0, 0, 0, 0, 0, 0, 0, 0]\n",
       "4                           [loaded_language]  [0, 0, 0, 0, 0, 0, 0, 1, 0, 0]\n",
       "...                                       ...                             ...\n",
       "3817              [loaded_language, euphoria]  [0, 0, 0, 0, 1, 0, 0, 1, 0, 0]\n",
       "3818                        [loaded_language]  [0, 0, 0, 0, 0, 0, 0, 1, 0, 0]\n",
       "3819                                     None  [0, 0, 0, 0, 0, 0, 0, 0, 0, 0]\n",
       "3820                                     None  [0, 0, 0, 0, 0, 0, 0, 0, 0, 0]\n",
       "3821  [loaded_language, whataboutism, cliche]  [0, 0, 0, 1, 0, 0, 0, 1, 0, 1]\n",
       "\n",
       "[3822 rows x 2 columns]"
      ],
      "text/html": [
       "<div>\n",
       "<style scoped>\n",
       "    .dataframe tbody tr th:only-of-type {\n",
       "        vertical-align: middle;\n",
       "    }\n",
       "\n",
       "    .dataframe tbody tr th {\n",
       "        vertical-align: top;\n",
       "    }\n",
       "\n",
       "    .dataframe thead th {\n",
       "        text-align: right;\n",
       "    }\n",
       "</style>\n",
       "<table border=\"1\" class=\"dataframe\">\n",
       "  <thead>\n",
       "    <tr style=\"text-align: right;\">\n",
       "      <th></th>\n",
       "      <th>techniques</th>\n",
       "      <th>labels_vector</th>\n",
       "    </tr>\n",
       "  </thead>\n",
       "  <tbody>\n",
       "    <tr>\n",
       "      <th>0</th>\n",
       "      <td>[euphoria, loaded_language]</td>\n",
       "      <td>[0, 0, 0, 0, 1, 0, 0, 1, 0, 0]</td>\n",
       "    </tr>\n",
       "    <tr>\n",
       "      <th>1</th>\n",
       "      <td>[loaded_language, cherry_picking]</td>\n",
       "      <td>[0, 0, 1, 0, 0, 0, 0, 1, 0, 0]</td>\n",
       "    </tr>\n",
       "    <tr>\n",
       "      <th>2</th>\n",
       "      <td>[loaded_language, euphoria]</td>\n",
       "      <td>[0, 0, 0, 0, 1, 0, 0, 1, 0, 0]</td>\n",
       "    </tr>\n",
       "    <tr>\n",
       "      <th>3</th>\n",
       "      <td>None</td>\n",
       "      <td>[0, 0, 0, 0, 0, 0, 0, 0, 0, 0]</td>\n",
       "    </tr>\n",
       "    <tr>\n",
       "      <th>4</th>\n",
       "      <td>[loaded_language]</td>\n",
       "      <td>[0, 0, 0, 0, 0, 0, 0, 1, 0, 0]</td>\n",
       "    </tr>\n",
       "    <tr>\n",
       "      <th>...</th>\n",
       "      <td>...</td>\n",
       "      <td>...</td>\n",
       "    </tr>\n",
       "    <tr>\n",
       "      <th>3817</th>\n",
       "      <td>[loaded_language, euphoria]</td>\n",
       "      <td>[0, 0, 0, 0, 1, 0, 0, 1, 0, 0]</td>\n",
       "    </tr>\n",
       "    <tr>\n",
       "      <th>3818</th>\n",
       "      <td>[loaded_language]</td>\n",
       "      <td>[0, 0, 0, 0, 0, 0, 0, 1, 0, 0]</td>\n",
       "    </tr>\n",
       "    <tr>\n",
       "      <th>3819</th>\n",
       "      <td>None</td>\n",
       "      <td>[0, 0, 0, 0, 0, 0, 0, 0, 0, 0]</td>\n",
       "    </tr>\n",
       "    <tr>\n",
       "      <th>3820</th>\n",
       "      <td>None</td>\n",
       "      <td>[0, 0, 0, 0, 0, 0, 0, 0, 0, 0]</td>\n",
       "    </tr>\n",
       "    <tr>\n",
       "      <th>3821</th>\n",
       "      <td>[loaded_language, whataboutism, cliche]</td>\n",
       "      <td>[0, 0, 0, 1, 0, 0, 0, 1, 0, 1]</td>\n",
       "    </tr>\n",
       "  </tbody>\n",
       "</table>\n",
       "<p>3822 rows × 2 columns</p>\n",
       "</div>"
      ]
     },
     "execution_count": 30,
     "metadata": {},
     "output_type": "execute_result"
    }
   ],
   "execution_count": 30
  },
  {
   "metadata": {
    "ExecuteTime": {
     "end_time": "2025-03-29T14:24:14.450508Z",
     "start_time": "2025-03-29T14:24:14.017787Z"
    }
   },
   "cell_type": "code",
   "source": [
    "# Initialize the stratified splitter; here we use a 80/20 split.\n",
    "msss = MultilabelStratifiedShuffleSplit(n_splits=1, test_size=0.2, random_state=42)\n",
    "\n",
    "# Get the train and test indices\n",
    "for train_idx, test_idx in msss.split(df, labels):\n",
    "    train_df = df.iloc[train_idx].reset_index(drop=True)\n",
    "    val_df = df.iloc[test_idx].reset_index(drop=True)\n",
    "# Now df_train and df_test preserve the multilabel distribution across splits.\n",
    "print(\"Training set size:\", len(train_df))\n",
    "print(\"Test set size:\", len(val_df))"
   ],
   "outputs": [
    {
     "name": "stdout",
     "output_type": "stream",
     "text": [
      "Training set size: 3057\n",
      "Test set size: 765\n"
     ]
    }
   ],
   "execution_count": 31
  },
  {
   "metadata": {},
   "cell_type": "code",
   "source": "train_df",
   "outputs": [],
   "execution_count": null
  },
  {
   "cell_type": "code",
   "source": [
    "# Load the tokenizer (using the chosen Ukrainian model)\n",
    "tokenizer = AutoTokenizer.from_pretrained(model_name)\n",
    "\n",
    "# A preprocessing function for our texts\n",
    "def preprocess_classification(example):\n",
    "    # Tokenize the 'clean_content'; adjust max_length as needed.\n",
    "    encoding = tokenizer(example['clean_content'], truncation=True, padding=\"max_length\", max_length=max_tokens_length)\n",
    "    # Add the binary label vector\n",
    "    encoding['labels'] = [float(l) for l in example['labels_vector']]\n",
    "    return encoding\n",
    "\n",
    "# Convert our pandas DataFrames to Hugging Face Datasets\n",
    "train_dataset = Dataset.from_pandas(train_df[['clean_content', 'labels_vector']])\n",
    "val_dataset = Dataset.from_pandas(val_df[['clean_content', 'labels_vector']])\n",
    "\n",
    "# Apply tokenization/preprocessing\n",
    "train_dataset = train_dataset.map(preprocess_classification, batched=False)\n",
    "val_dataset = val_dataset.map(preprocess_classification, batched=False)\n",
    "\n",
    "train_dataset.set_format(type=\"torch\", columns=[\"input_ids\", \"attention_mask\", \"labels\"])\n",
    "val_dataset.set_format(type=\"torch\", columns=[\"input_ids\", \"attention_mask\", \"labels\"])\n",
    "full_dataset = concatenate_datasets([train_dataset, val_dataset])\n",
    "print(\"Example from training dataset:\", train_dataset[0])"
   ],
   "metadata": {
    "colab": {
     "base_uri": "https://localhost:8080/",
     "height": 118,
     "referenced_widgets": [
      "aaad5682133f454fbe413d936bb7a50d",
      "088fc7456bc14c478d3a19d3284fda01",
      "ec60acfc3e564ad9a66153420c7cc168",
      "5b5d198cc6554aa4a8342f1bff50eeeb",
      "827b6d76bca5432abfc54ab64ba37e1b",
      "85980746cb264c5688ddaf7129434c45",
      "43283a799ee24437ba52d205dfaa43dc",
      "d4ccd5c32dc54833ad54c52ea42b788a",
      "c6882a4d3cba46a695d7df3b7603c2c2",
      "78aa3b3a9a60428896d03555bdcc9e74",
      "71d470f04284406198b9e4bf74155e3c",
      "9bce0d90b9664ee0b03c239c113a3106",
      "8650b34c74114bd4bd48ce4828e25455",
      "105f65db7e2f491f8c070a8817e99f18",
      "639a79a035e540569b68fd52bc11bc74",
      "048f1a59c14445dda7e66b216bfc4f8e",
      "86ff074054b345be83e7c6181c43ab30",
      "9f88a0555a4d478cb7ac01a668d3fb6a",
      "9bedf39c539448648db1bca50e91675b",
      "6f6462026ad440dda02b451d7149518d",
      "f311b38f2bf84b6b9b104f429e3150b4",
      "b4b6216b46714f278e027feed10ce4ec"
     ]
    },
    "id": "u3B977B_ud6-",
    "outputId": "fe523d20-e157-43d9-91f1-332366d16cd5",
    "ExecuteTime": {
     "end_time": "2025-03-29T14:25:09.619302Z",
     "start_time": "2025-03-29T14:25:04.478912Z"
    }
   },
   "outputs": [
    {
     "data": {
      "text/plain": [
       "Map:   0%|          | 0/3057 [00:00<?, ? examples/s]"
      ],
      "application/vnd.jupyter.widget-view+json": {
       "version_major": 2,
       "version_minor": 0,
       "model_id": "ecc23def07d74615b97024f912ebd05e"
      }
     },
     "metadata": {},
     "output_type": "display_data"
    },
    {
     "data": {
      "text/plain": [
       "Map:   0%|          | 0/765 [00:00<?, ? examples/s]"
      ],
      "application/vnd.jupyter.widget-view+json": {
       "version_major": 2,
       "version_minor": 0,
       "model_id": "622fd31470b64c37897faf1d082f08d8"
      }
     },
     "metadata": {},
     "output_type": "display_data"
    },
    {
     "name": "stdout",
     "output_type": "stream",
     "text": [
      "Example from training dataset: {'input_ids': tensor([    0, 13612,  8817,   475,   533, 15663,  4974, 11407,  8598,   358,\n",
      "         7968,  8738, 25486,    16,  6832,   629,  3234,  8919,   416, 26840,\n",
      "           16, 15714,   367, 27823,   630, 15688,   342, 25944, 18985,  6407,\n",
      "         4596, 16989,   615,   339,  2962,   308,   318,  4082,  1089,   308,\n",
      "         2143,   326,    18,  1089,   308,  2143,   264, 47933,    16,   402,\n",
      "        19830, 37081,  1631,  6299,  5069,   320,  1631, 24347,   705,  1342,\n",
      "           18, 39392,    16,   402, 26299,   948,   969, 11358,    18,  6370,\n",
      "        27020,  4913,   284, 10694,   758,   548,  1473,  6499, 37503, 40961,\n",
      "         1245,    81,     2,     1,     1,     1,     1,     1,     1,     1,\n",
      "            1,     1,     1,     1,     1,     1,     1,     1,     1,     1,\n",
      "            1,     1,     1,     1,     1,     1,     1,     1,     1,     1,\n",
      "            1,     1,     1,     1,     1,     1,     1,     1,     1,     1,\n",
      "            1,     1,     1,     1,     1,     1,     1,     1,     1,     1,\n",
      "            1,     1,     1,     1,     1,     1,     1,     1,     1,     1,\n",
      "            1,     1,     1,     1,     1,     1,     1,     1,     1,     1,\n",
      "            1,     1,     1,     1,     1,     1,     1,     1,     1,     1,\n",
      "            1,     1,     1,     1,     1,     1,     1,     1,     1,     1,\n",
      "            1,     1,     1,     1,     1,     1,     1,     1,     1,     1,\n",
      "            1,     1,     1,     1,     1,     1,     1,     1,     1,     1,\n",
      "            1,     1,     1,     1,     1,     1,     1,     1,     1,     1,\n",
      "            1,     1,     1,     1,     1,     1,     1,     1,     1,     1,\n",
      "            1,     1,     1,     1,     1,     1,     1,     1,     1,     1,\n",
      "            1,     1,     1,     1,     1,     1,     1,     1,     1,     1,\n",
      "            1,     1,     1,     1,     1,     1,     1,     1,     1,     1,\n",
      "            1,     1,     1,     1,     1,     1,     1,     1,     1,     1,\n",
      "            1,     1,     1,     1,     1,     1,     1,     1,     1,     1,\n",
      "            1,     1,     1,     1,     1,     1,     1,     1,     1,     1,\n",
      "            1,     1,     1,     1,     1,     1,     1,     1,     1,     1,\n",
      "            1,     1,     1,     1,     1,     1,     1,     1,     1,     1,\n",
      "            1,     1,     1,     1,     1,     1,     1,     1,     1,     1,\n",
      "            1,     1,     1,     1,     1,     1,     1,     1,     1,     1,\n",
      "            1,     1,     1,     1,     1,     1,     1,     1,     1,     1,\n",
      "            1,     1,     1,     1,     1,     1,     1,     1,     1,     1,\n",
      "            1,     1,     1,     1,     1,     1,     1,     1,     1,     1,\n",
      "            1,     1,     1,     1,     1,     1,     1,     1,     1,     1,\n",
      "            1,     1,     1,     1,     1,     1,     1,     1,     1,     1,\n",
      "            1,     1,     1,     1,     1,     1,     1,     1,     1,     1,\n",
      "            1,     1,     1,     1,     1,     1,     1,     1,     1,     1,\n",
      "            1,     1,     1,     1,     1,     1,     1,     1,     1,     1,\n",
      "            1,     1,     1,     1,     1,     1,     1,     1,     1,     1,\n",
      "            1,     1,     1,     1,     1,     1,     1,     1,     1,     1,\n",
      "            1,     1,     1,     1,     1,     1,     1,     1,     1,     1,\n",
      "            1,     1,     1,     1,     1,     1,     1,     1,     1,     1,\n",
      "            1,     1,     1,     1,     1,     1,     1,     1,     1,     1,\n",
      "            1,     1,     1,     1,     1,     1,     1,     1,     1,     1,\n",
      "            1,     1,     1,     1,     1,     1,     1,     1,     1,     1,\n",
      "            1,     1,     1,     1,     1,     1,     1,     1,     1,     1,\n",
      "            1,     1,     1,     1,     1,     1,     1,     1,     1,     1,\n",
      "            1,     1,     1,     1,     1,     1,     1,     1,     1,     1,\n",
      "            1,     1,     1,     1,     1,     1,     1,     1,     1,     1,\n",
      "            1,     1,     1,     1,     1,     1,     1,     1,     1,     1,\n",
      "            1,     1]), 'attention_mask': tensor([1, 1, 1, 1, 1, 1, 1, 1, 1, 1, 1, 1, 1, 1, 1, 1, 1, 1, 1, 1, 1, 1, 1, 1,\n",
      "        1, 1, 1, 1, 1, 1, 1, 1, 1, 1, 1, 1, 1, 1, 1, 1, 1, 1, 1, 1, 1, 1, 1, 1,\n",
      "        1, 1, 1, 1, 1, 1, 1, 1, 1, 1, 1, 1, 1, 1, 1, 1, 1, 1, 1, 1, 1, 1, 1, 1,\n",
      "        1, 1, 1, 1, 1, 1, 1, 1, 1, 1, 1, 0, 0, 0, 0, 0, 0, 0, 0, 0, 0, 0, 0, 0,\n",
      "        0, 0, 0, 0, 0, 0, 0, 0, 0, 0, 0, 0, 0, 0, 0, 0, 0, 0, 0, 0, 0, 0, 0, 0,\n",
      "        0, 0, 0, 0, 0, 0, 0, 0, 0, 0, 0, 0, 0, 0, 0, 0, 0, 0, 0, 0, 0, 0, 0, 0,\n",
      "        0, 0, 0, 0, 0, 0, 0, 0, 0, 0, 0, 0, 0, 0, 0, 0, 0, 0, 0, 0, 0, 0, 0, 0,\n",
      "        0, 0, 0, 0, 0, 0, 0, 0, 0, 0, 0, 0, 0, 0, 0, 0, 0, 0, 0, 0, 0, 0, 0, 0,\n",
      "        0, 0, 0, 0, 0, 0, 0, 0, 0, 0, 0, 0, 0, 0, 0, 0, 0, 0, 0, 0, 0, 0, 0, 0,\n",
      "        0, 0, 0, 0, 0, 0, 0, 0, 0, 0, 0, 0, 0, 0, 0, 0, 0, 0, 0, 0, 0, 0, 0, 0,\n",
      "        0, 0, 0, 0, 0, 0, 0, 0, 0, 0, 0, 0, 0, 0, 0, 0, 0, 0, 0, 0, 0, 0, 0, 0,\n",
      "        0, 0, 0, 0, 0, 0, 0, 0, 0, 0, 0, 0, 0, 0, 0, 0, 0, 0, 0, 0, 0, 0, 0, 0,\n",
      "        0, 0, 0, 0, 0, 0, 0, 0, 0, 0, 0, 0, 0, 0, 0, 0, 0, 0, 0, 0, 0, 0, 0, 0,\n",
      "        0, 0, 0, 0, 0, 0, 0, 0, 0, 0, 0, 0, 0, 0, 0, 0, 0, 0, 0, 0, 0, 0, 0, 0,\n",
      "        0, 0, 0, 0, 0, 0, 0, 0, 0, 0, 0, 0, 0, 0, 0, 0, 0, 0, 0, 0, 0, 0, 0, 0,\n",
      "        0, 0, 0, 0, 0, 0, 0, 0, 0, 0, 0, 0, 0, 0, 0, 0, 0, 0, 0, 0, 0, 0, 0, 0,\n",
      "        0, 0, 0, 0, 0, 0, 0, 0, 0, 0, 0, 0, 0, 0, 0, 0, 0, 0, 0, 0, 0, 0, 0, 0,\n",
      "        0, 0, 0, 0, 0, 0, 0, 0, 0, 0, 0, 0, 0, 0, 0, 0, 0, 0, 0, 0, 0, 0, 0, 0,\n",
      "        0, 0, 0, 0, 0, 0, 0, 0, 0, 0, 0, 0, 0, 0, 0, 0, 0, 0, 0, 0, 0, 0, 0, 0,\n",
      "        0, 0, 0, 0, 0, 0, 0, 0, 0, 0, 0, 0, 0, 0, 0, 0, 0, 0, 0, 0, 0, 0, 0, 0,\n",
      "        0, 0, 0, 0, 0, 0, 0, 0, 0, 0, 0, 0, 0, 0, 0, 0, 0, 0, 0, 0, 0, 0, 0, 0,\n",
      "        0, 0, 0, 0, 0, 0, 0, 0]), 'labels': tensor([0., 0., 0., 0., 1., 0., 0., 1., 0., 0.])}\n"
     ]
    }
   ],
   "execution_count": 33
  },
  {
   "metadata": {},
   "cell_type": "markdown",
   "source": "### Model training"
  },
  {
   "metadata": {
    "ExecuteTime": {
     "end_time": "2025-03-29T14:25:43.268726Z",
     "start_time": "2025-03-29T14:25:43.056088Z"
    }
   },
   "cell_type": "code",
   "source": [
    "label_counts = df_exploded['techniques'].value_counts().to_dict()\n",
    "total_samples = len(df['techniques'])\n",
    "total_samples, label_counts"
   ],
   "outputs": [
    {
     "data": {
      "text/plain": [
       "(3822,\n",
       " {'loaded_language': 1973,\n",
       "  'cherry_picking': 512,\n",
       "  'glittering_generalities': 483,\n",
       "  'cliche': 463,\n",
       "  'euphoria': 462,\n",
       "  'fud': 385,\n",
       "  'appeal_to_fear': 300,\n",
       "  'whataboutism': 158,\n",
       "  'bandwagon': 157,\n",
       "  'straw_man': 138})"
      ]
     },
     "execution_count": 34,
     "metadata": {},
     "output_type": "execute_result"
    }
   ],
   "execution_count": 34
  },
  {
   "metadata": {
    "ExecuteTime": {
     "end_time": "2025-03-29T14:25:45.185369Z",
     "start_time": "2025-03-29T14:25:44.982643Z"
    }
   },
   "cell_type": "code",
   "source": [
    "pos_weight_list = []\n",
    "for label in sorted(label_counts.keys()):\n",
    "    count = label_counts[label]\n",
    "    neg = total_samples - count\n",
    "    pos_weight = neg / count\n",
    "    pos_weight_list.append(pos_weight)\n",
    "\n",
    "pos_weight = torch.tensor(pos_weight_list, dtype=torch.float)\n",
    "print(\"Computed pos_weight:\", pos_weight)"
   ],
   "outputs": [
    {
     "name": "stdout",
     "output_type": "stream",
     "text": [
      "Computed pos_weight: tensor([11.7400, 23.3439,  6.4648,  7.2549,  7.2727,  8.9273,  6.9130,  0.9372,\n",
      "        26.6957, 23.1899])\n"
     ]
    }
   ],
   "execution_count": 35
  },
  {
   "metadata": {
    "ExecuteTime": {
     "end_time": "2025-03-29T14:25:47.433332Z",
     "start_time": "2025-03-29T14:25:47.247648Z"
    }
   },
   "cell_type": "code",
   "source": [
    "class DataCollatorForMultiLabelClassification(DataCollatorWithPadding):\n",
    "    def __call__(self, features):\n",
    "        # Check if the first feature has the \"labels\" key.\n",
    "        if \"labels\" in features[0]:\n",
    "            labels = [feature.pop(\"labels\") for feature in features]\n",
    "        else:\n",
    "            labels = None\n",
    "\n",
    "        # Pad the remaining features (e.g., input_ids, attention_mask).\n",
    "        batch = super().__call__(features)\n",
    "\n",
    "        # If labels were present, stack them into a tensor.\n",
    "        if labels is not None:\n",
    "            batch[\"labels\"] = torch.stack([torch.as_tensor(label, dtype=torch.float) for label in labels])\n",
    "        return batch"
   ],
   "outputs": [],
   "execution_count": 36
  },
  {
   "metadata": {
    "ExecuteTime": {
     "end_time": "2025-03-29T14:43:50.247257Z",
     "start_time": "2025-03-29T14:36:37.695355Z"
    }
   },
   "cell_type": "code",
   "source": [
    "# Assume technique_list is the sorted list of labels (in the same order as above).\n",
    "technique_list = sorted(label_counts.keys())\n",
    "id2label = {i: label for i, label in enumerate(technique_list)}\n",
    "label2id = {label: i for i, label in enumerate(technique_list)}\n",
    "\n",
    "# Load the model (multilabel classification)\n",
    "model = AutoModelForSequenceClassification.from_pretrained(\n",
    "    model_name,\n",
    "    num_labels=len(technique_list),\n",
    "    problem_type=\"multi_label_classification\",\n",
    "    id2label=id2label,\n",
    "    label2id=label2id,\n",
    ")\n",
    "\n",
    "# Define a custom Trainer that uses a weighted loss.\n",
    "class WeightedLossTrainer(Trainer):\n",
    "    def __init__(self, pos_weight, **kwargs):\n",
    "        super().__init__(**kwargs)\n",
    "        # Cache the loss function once (move to device later in compute_loss if needed).\n",
    "        self.cached_loss_fct = nn.BCEWithLogitsLoss(pos_weight=pos_weight)\n",
    "\n",
    "    def compute_loss(self, model, inputs, return_outputs=False, **kwargs):\n",
    "        # Remove the extra keyword if present.\n",
    "        inputs.pop(\"num_items_in_batch\", None)\n",
    "        labels = inputs.get(\"labels\")\n",
    "        outputs = model(**inputs)\n",
    "        logits = outputs.logits\n",
    "        # Move the cached loss function's pos_weight to the correct device once per batch.\n",
    "        loss_fct = nn.BCEWithLogitsLoss(pos_weight=self.cached_loss_fct.pos_weight.to(logits.device))\n",
    "        loss = loss_fct(logits, labels.float())\n",
    "        return (loss, outputs) if return_outputs else loss\n",
    "\n",
    "# Instantiate the data collator with explicit padding strategy.\n",
    "data_collator = DataCollatorForMultiLabelClassification(tokenizer, padding=\"max_length\", max_length=max_tokens_length)\n",
    "\n",
    "# Define a compute_metrics function (using macro F1 as an example)\n",
    "def compute_metrics(eval_pred):\n",
    "    logits, labels = eval_pred\n",
    "    # Apply sigmoid to get probabilities and then threshold at 0.5\n",
    "    preds = (torch.sigmoid(torch.tensor(logits)) > 0.5).int().numpy()\n",
    "    f1_macro = f1_score(labels, preds, average=\"macro\", zero_division=0)\n",
    "    return {\"macro_f1\": f1_macro}\n",
    "\n",
    "# Set up training arguments.\n",
    "training_args = TrainingArguments(\n",
    "    output_dir=\"./models/trainer_output\",\n",
    "    seed=42,\n",
    "    report_to=\"none\",\n",
    "    eval_strategy=\"epoch\",\n",
    "    save_strategy=\"epoch\",\n",
    "    num_train_epochs=4,  # Increase epochs if needed\n",
    "    per_device_train_batch_size=10,\n",
    "    per_device_eval_batch_size=10,\n",
    "    learning_rate=2e-5,\n",
    "    weight_decay=0.1,\n",
    "    fp16=True,\n",
    "    #load_best_model_at_end=True,\n",
    ")\n",
    "\n",
    "# Assume train_dataset and val_dataset are already prepared Hugging Face datasets.\n",
    "# They should include the fields \"input_ids\", \"attention_mask\", and \"labels\" (with labels as float vectors).\n",
    "\n",
    "# Initialize the custom Trainer.\n",
    "trainer = WeightedLossTrainer(\n",
    "    model=model,\n",
    "    args=training_args,\n",
    "    train_dataset=train_dataset,\n",
    "    eval_dataset=val_dataset,\n",
    "    compute_metrics=compute_metrics,\n",
    "    pos_weight=pos_weight,\n",
    "    data_collator=data_collator\n",
    ")\n",
    "\n",
    "# Start training.\n",
    "trainer.train()"
   ],
   "outputs": [
    {
     "name": "stderr",
     "output_type": "stream",
     "text": [
      "Some weights of RobertaForSequenceClassification were not initialized from the model checkpoint at youscan/ukr-roberta-base and are newly initialized: ['classifier.dense.bias', 'classifier.dense.weight', 'classifier.out_proj.bias', 'classifier.out_proj.weight']\n",
      "You should probably TRAIN this model on a down-stream task to be able to use it for predictions and inference.\n"
     ]
    },
    {
     "data": {
      "text/plain": [
       "<IPython.core.display.HTML object>"
      ],
      "text/html": [
       "\n",
       "    <div>\n",
       "      \n",
       "      <progress value='1224' max='1224' style='width:300px; height:20px; vertical-align: middle;'></progress>\n",
       "      [1224/1224 07:08, Epoch 4/4]\n",
       "    </div>\n",
       "    <table border=\"1\" class=\"dataframe\">\n",
       "  <thead>\n",
       " <tr style=\"text-align: left;\">\n",
       "      <th>Epoch</th>\n",
       "      <th>Training Loss</th>\n",
       "      <th>Validation Loss</th>\n",
       "      <th>Macro F1</th>\n",
       "    </tr>\n",
       "  </thead>\n",
       "  <tbody>\n",
       "    <tr>\n",
       "      <td>1</td>\n",
       "      <td>No log</td>\n",
       "      <td>1.019180</td>\n",
       "      <td>0.348047</td>\n",
       "    </tr>\n",
       "    <tr>\n",
       "      <td>2</td>\n",
       "      <td>1.006100</td>\n",
       "      <td>0.975203</td>\n",
       "      <td>0.374423</td>\n",
       "    </tr>\n",
       "    <tr>\n",
       "      <td>3</td>\n",
       "      <td>1.006100</td>\n",
       "      <td>0.939358</td>\n",
       "      <td>0.359570</td>\n",
       "    </tr>\n",
       "    <tr>\n",
       "      <td>4</td>\n",
       "      <td>0.767900</td>\n",
       "      <td>1.023503</td>\n",
       "      <td>0.393901</td>\n",
       "    </tr>\n",
       "  </tbody>\n",
       "</table><p>"
      ]
     },
     "metadata": {},
     "output_type": "display_data"
    },
    {
     "data": {
      "text/plain": [
       "TrainOutput(global_step=1224, training_loss=0.8431913463118809, metrics={'train_runtime': 429.1754, 'train_samples_per_second': 28.492, 'train_steps_per_second': 2.852, 'total_flos': 3217553081229312.0, 'train_loss': 0.8431913463118809, 'epoch': 4.0})"
      ]
     },
     "execution_count": 38,
     "metadata": {},
     "output_type": "execute_result"
    }
   ],
   "execution_count": 38
  },
  {
   "metadata": {},
   "cell_type": "markdown",
   "source": "#### Threshold optimization"
  },
  {
   "metadata": {
    "ExecuteTime": {
     "end_time": "2025-03-29T14:44:04.160617Z",
     "start_time": "2025-03-29T14:43:56.668979Z"
    }
   },
   "cell_type": "code",
   "source": [
    "import numpy as np\n",
    "\n",
    "def optimize_thresholds(preds_prob, true_labels, thresholds=np.arange(0.1, 0.9, 0.05)):\n",
    "    best_thresholds = []\n",
    "    num_labels = true_labels.shape[1]\n",
    "    for label in range(num_labels):\n",
    "        best_f1 = 0.0\n",
    "        best_t = 0.5\n",
    "        for t in thresholds:\n",
    "            preds = (preds_prob[:, label] > t).astype(int)\n",
    "            f1 = f1_score(true_labels[:, label], preds, zero_division=0)\n",
    "            if f1 > best_f1:\n",
    "                best_f1 = f1\n",
    "                best_t = t\n",
    "        best_thresholds.append(best_t)\n",
    "    return best_thresholds\n",
    "\n",
    "# After training, get predictions on your validation set.\n",
    "results = trainer.predict(val_dataset)\n",
    "preds_prob = torch.sigmoid(torch.tensor(results.predictions)).numpy()\n",
    "true_labels = results.label_ids.astype(int)\n",
    "\n",
    "best_thresholds = optimize_thresholds(preds_prob, true_labels)\n",
    "print(\"Optimized thresholds per class:\", best_thresholds)\n"
   ],
   "outputs": [
    {
     "data": {
      "text/plain": [
       "<IPython.core.display.HTML object>"
      ],
      "text/html": []
     },
     "metadata": {},
     "output_type": "display_data"
    },
    {
     "name": "stdout",
     "output_type": "stream",
     "text": [
      "Optimized thresholds per class: [0.7500000000000002, 0.8000000000000002, 0.5500000000000002, 0.5000000000000001, 0.7500000000000002, 0.5000000000000001, 0.7500000000000002, 0.3500000000000001, 0.8000000000000002, 0.3500000000000001]\n"
     ]
    }
   ],
   "execution_count": 39
  },
  {
   "metadata": {},
   "cell_type": "markdown",
   "source": "#### Evaluation"
  },
  {
   "metadata": {},
   "cell_type": "code",
   "source": [
    "predictions = trainer.predict(val_dataset)\n",
    "# predictions.predictions is an array of logits.\n",
    "# Convert logits to probabilities, then threshold to get binary predictions.\n",
    "preds = (torch.sigmoid(torch.tensor(predictions.predictions)) > 0.5).int().numpy()\n",
    "\n",
    "# Create a list mapping predicted binary vectors to label names.\n",
    "predicted_labels_list = []\n",
    "for sample_pred in preds:\n",
    "    sample_labels = [id2label[i] for i, flag in enumerate(sample_pred) if flag == 1]\n",
    "    predicted_labels_list.append(sample_labels)\n",
    "\n",
    "# Now, assume you still have your original validation DataFrame \"val_df\"\n",
    "# with the original columns \"id\" and \"clean_content\".\n",
    "# Make sure the order of rows in val_df matches the order in val_dataset.\n",
    "val_ids = val_df[\"id\"].tolist()\n",
    "val_texts = val_df[\"clean_content\"].tolist()\n",
    "\n",
    "print(\"Evaluation on test data:\\n\")\n",
    "# Iterate over each sample and print the id, clean text, actual labels, and predicted labels.\n",
    "for i, sample in enumerate(val_dataset):\n",
    "    sample_id = val_ids[i]\n",
    "    sample_text = val_texts[i]\n",
    "\n",
    "    # Get actual labels from the dataset sample (assuming labels are a binary vector)\n",
    "    actual_label_names = [id2label[idx] for idx, val in enumerate(sample[\"labels\"]) if val > 0.5]\n",
    "\n",
    "    predicted_label_names = predicted_labels_list[i]\n",
    "\n",
    "    print(f\"Sample {i+1} (ID: {sample_id}):\")\n",
    "    print(\"Clean Text:\", sample_text)\n",
    "    print(\"Actual Labels:\", actual_label_names)\n",
    "    print(\"Predicted Labels:\", predicted_label_names)\n",
    "    print(\"-\" * 50)\n",
    "    if i > 10:\n",
    "        break"
   ],
   "outputs": [],
   "execution_count": null
  },
  {
   "metadata": {},
   "cell_type": "markdown",
   "source": "#### F1 score"
  },
  {
   "metadata": {
    "ExecuteTime": {
     "end_time": "2025-03-29T14:44:11.077088Z",
     "start_time": "2025-03-29T14:44:04.189077Z"
    }
   },
   "cell_type": "code",
   "source": [
    "import torch\n",
    "import numpy as np\n",
    "from sklearn.metrics import precision_score, recall_score, f1_score\n",
    "\n",
    "# Get predictions from your Trainer on your test dataset.\n",
    "results = trainer.predict(val_dataset)\n",
    "logits = results.predictions  # raw logits from the model\n",
    "true_labels = results.label_ids  # true labels as a numpy array\n",
    "\n",
    "# Convert logits to probabilities using sigmoid and then threshold to get binary predictions.\n",
    "pred_probs = torch.sigmoid(torch.tensor(logits))\n",
    "preds = (pred_probs > 0.5).int().numpy()\n",
    "\n",
    "# Ensure the true labels are integer type.\n",
    "true_labels = true_labels.astype(int)\n",
    "\n",
    "# Compute per-label metrics.\n",
    "precision_per_label = precision_score(true_labels, preds, average=None, zero_division=0)\n",
    "recall_per_label = recall_score(true_labels, preds, average=None, zero_division=0)\n",
    "f1_per_label = f1_score(true_labels, preds, average=None, zero_division=0)\n",
    "\n",
    "# Print per-label scores.\n",
    "print(\"Per-label metrics:\")\n",
    "for idx, label in id2label.items():\n",
    "    print(f\"Label '{label}': Precision: {precision_per_label[idx]:.4f}, Recall: {recall_per_label[idx]:.4f}, F1: {f1_per_label[idx]:.4f}\")\n",
    "\n",
    "# Compute overall metrics.\n",
    "macro_precision = precision_score(true_labels, preds, average='macro', zero_division=0)\n",
    "macro_recall = recall_score(true_labels, preds, average='macro', zero_division=0)\n",
    "macro_f1 = f1_score(true_labels, preds, average='macro', zero_division=0)\n",
    "\n",
    "micro_precision = precision_score(true_labels, preds, average='micro', zero_division=0)\n",
    "micro_recall = recall_score(true_labels, preds, average='micro', zero_division=0)\n",
    "micro_f1 = f1_score(true_labels, preds, average='micro', zero_division=0)\n",
    "\n",
    "print(f\"\\nOverall Macro Precision: {macro_precision:.4f}, Macro Recall: {macro_recall:.4f}, Macro F1: {macro_f1:.4f}\")\n",
    "print(f\"Overall Micro Precision: {micro_precision:.4f}, Micro Recall: {micro_recall:.4f}, Micro F1: {micro_f1:.4f}\")\n"
   ],
   "outputs": [
    {
     "data": {
      "text/plain": [
       "<IPython.core.display.HTML object>"
      ],
      "text/html": []
     },
     "metadata": {},
     "output_type": "display_data"
    },
    {
     "name": "stdout",
     "output_type": "stream",
     "text": [
      "Per-label metrics:\n",
      "Label 'appeal_to_fear': Precision: 0.1854, Recall: 0.5500, F1: 0.2773\n",
      "Label 'bandwagon': Precision: 0.1385, Recall: 0.5806, F1: 0.2236\n",
      "Label 'cherry_picking': Precision: 0.3632, Recall: 0.7157, F1: 0.4818\n",
      "Label 'cliche': Precision: 0.2316, Recall: 0.6774, F1: 0.3452\n",
      "Label 'euphoria': Precision: 0.2780, Recall: 0.6196, F1: 0.3838\n",
      "Label 'fud': Precision: 0.3373, Recall: 0.7403, F1: 0.4634\n",
      "Label 'glittering_generalities': Precision: 0.4863, Recall: 0.7320, F1: 0.5844\n",
      "Label 'loaded_language': Precision: 0.7759, Recall: 0.6835, F1: 0.7268\n",
      "Label 'straw_man': Precision: 0.1518, Recall: 0.6071, F1: 0.2429\n",
      "Label 'whataboutism': Precision: 0.1351, Recall: 0.4688, F1: 0.2098\n",
      "\n",
      "Overall Macro Precision: 0.3083, Macro Recall: 0.6375, Macro F1: 0.3939\n",
      "Overall Micro Precision: 0.3600, Micro Recall: 0.6693, Micro F1: 0.4682\n"
     ]
    }
   ],
   "execution_count": 40
  },
  {
   "metadata": {},
   "cell_type": "markdown",
   "source": "### F1 score with optimized thresholds"
  },
  {
   "metadata": {
    "ExecuteTime": {
     "end_time": "2025-03-29T14:44:17.960097Z",
     "start_time": "2025-03-29T14:44:11.115179Z"
    }
   },
   "cell_type": "code",
   "source": [
    "import torch\n",
    "import numpy as np\n",
    "from sklearn.metrics import f1_score\n",
    "\n",
    "# Get predictions from your Trainer on your validation/test dataset.\n",
    "results = trainer.predict(val_dataset)\n",
    "logits = results.predictions  # raw logits from the model\n",
    "true_labels = results.label_ids.astype(int)  # true labels as a numpy array\n",
    "\n",
    "# Convert logits to probabilities.\n",
    "pred_probs = torch.sigmoid(torch.tensor(logits)).numpy()\n",
    "\n",
    "# Use best_thresholds to generate predictions.\n",
    "# best_thresholds is a list containing a threshold for each label.\n",
    "# We'll create a new predictions array using these thresholds.\n",
    "preds = np.zeros_like(pred_probs, dtype=int)\n",
    "for i, threshold in enumerate(best_thresholds):\n",
    "    preds[:, i] = (pred_probs[:, i] > threshold).astype(int)\n",
    "\n",
    "# Compute per-label metrics.\n",
    "precision_per_label = precision_score(true_labels, preds, average=None, zero_division=0)\n",
    "recall_per_label = recall_score(true_labels, preds, average=None, zero_division=0)\n",
    "# Compute F1 scores for each label individually.\n",
    "f1_per_label = f1_score(true_labels, preds, average=None, zero_division=0)\n",
    "\n",
    "# Print per-label scores.\n",
    "print(\"Per-label metrics:\")\n",
    "for idx, label in id2label.items():\n",
    "    print(f\"Label '{label}': Precision: {precision_per_label[idx]:.4f}, Recall: {recall_per_label[idx]:.4f}, F1: {f1_per_label[idx]:.4f}\")\n",
    "\n",
    "# Compute overall metrics.\n",
    "macro_precision = precision_score(true_labels, preds, average='macro', zero_division=0)\n",
    "macro_recall = recall_score(true_labels, preds, average='macro', zero_division=0)\n",
    "macro_f1 = f1_score(true_labels, preds, average='macro', zero_division=0)\n",
    "\n",
    "micro_precision = precision_score(true_labels, preds, average='micro', zero_division=0)\n",
    "micro_recall = recall_score(true_labels, preds, average='micro', zero_division=0)\n",
    "micro_f1 = f1_score(true_labels, preds, average='micro', zero_division=0)\n",
    "\n",
    "print(f\"\\nOverall Macro Precision: {macro_precision:.4f}, Macro Recall: {macro_recall:.4f}, Macro F1: {macro_f1:.4f}\")\n",
    "print(f\"Overall Micro Precision: {micro_precision:.4f}, Micro Recall: {micro_recall:.4f}, Micro F1: {micro_f1:.4f}\")"
   ],
   "outputs": [
    {
     "data": {
      "text/plain": [
       "<IPython.core.display.HTML object>"
      ],
      "text/html": []
     },
     "metadata": {},
     "output_type": "display_data"
    },
    {
     "name": "stdout",
     "output_type": "stream",
     "text": [
      "Per-label metrics:\n",
      "Label 'appeal_to_fear': Precision: 0.3000, Recall: 0.3500, F1: 0.3231\n",
      "Label 'bandwagon': Precision: 0.2500, Recall: 0.2903, F1: 0.2687\n",
      "Label 'cherry_picking': Precision: 0.3859, Recall: 0.6961, F1: 0.4965\n",
      "Label 'cliche': Precision: 0.2316, Recall: 0.6774, F1: 0.3452\n",
      "Label 'euphoria': Precision: 0.4000, Recall: 0.4348, F1: 0.4167\n",
      "Label 'fud': Precision: 0.3373, Recall: 0.7403, F1: 0.4634\n",
      "Label 'glittering_generalities': Precision: 0.6300, Recall: 0.6495, F1: 0.6396\n",
      "Label 'loaded_language': Precision: 0.7074, Recall: 0.8506, F1: 0.7724\n",
      "Label 'straw_man': Precision: 0.2642, Recall: 0.5000, F1: 0.3457\n",
      "Label 'whataboutism': Precision: 0.1314, Recall: 0.5625, F1: 0.2130\n",
      "\n",
      "Overall Macro Precision: 0.3638, Macro Recall: 0.5751, Macro F1: 0.4284\n",
      "Overall Micro Precision: 0.4336, Micro Recall: 0.6872, Micro F1: 0.5317\n"
     ]
    }
   ],
   "execution_count": 41
  },
  {
   "metadata": {
    "ExecuteTime": {
     "end_time": "2025-03-29T15:17:15.219035Z",
     "start_time": "2025-03-29T15:17:14.134250Z"
    }
   },
   "cell_type": "code",
   "source": "trainer.save_model(\"./models/WeightedLoss-UkrRoberta-512-full-data-not-tuned-thresholds\")",
   "outputs": [],
   "execution_count": 72
  },
  {
   "metadata": {},
   "cell_type": "markdown",
   "source": "# Evaluate test model"
  },
  {
   "metadata": {},
   "cell_type": "markdown",
   "source": "## Train on all data"
  },
  {
   "metadata": {
    "ExecuteTime": {
     "end_time": "2025-03-29T14:55:43.049044Z",
     "start_time": "2025-03-29T14:47:15.155417Z"
    }
   },
   "cell_type": "code",
   "source": [
    "# Combine your training and validation datasets into one dataset.\n",
    "\n",
    "print(f\"Full dataset size: {len(full_dataset)}\")\n",
    "\n",
    "training_args = TrainingArguments(\n",
    "    output_dir=\"./models/trainer_output\",\n",
    "    seed=42,\n",
    "    report_to=\"none\",\n",
    "    save_strategy=\"epoch\",\n",
    "    num_train_epochs=4,  # Increase epochs if needed\n",
    "    per_device_train_batch_size=10,\n",
    "    per_device_eval_batch_size=10,\n",
    "    learning_rate=2e-5,\n",
    "    weight_decay=0.1,\n",
    "    #load_best_model_at_end=True,\n",
    ")\n",
    "\n",
    "# Initialize the custom Trainer with the full dataset.\n",
    "trainer = WeightedLossTrainer(\n",
    "    model=model,\n",
    "    args=training_args,\n",
    "    train_dataset=full_dataset,    # Using the full dataset for training.\n",
    "    compute_metrics=compute_metrics,\n",
    "    pos_weight=pos_weight,\n",
    "    data_collator=data_collator\n",
    ")\n",
    "\n",
    "# Start training.\n",
    "trainer.train()\n"
   ],
   "outputs": [
    {
     "name": "stdout",
     "output_type": "stream",
     "text": [
      "Full dataset size: 3822\n"
     ]
    },
    {
     "data": {
      "text/plain": [
       "<IPython.core.display.HTML object>"
      ],
      "text/html": [
       "\n",
       "    <div>\n",
       "      \n",
       "      <progress value='1532' max='1532' style='width:300px; height:20px; vertical-align: middle;'></progress>\n",
       "      [1532/1532 08:26, Epoch 4/4]\n",
       "    </div>\n",
       "    <table border=\"1\" class=\"dataframe\">\n",
       "  <thead>\n",
       " <tr style=\"text-align: left;\">\n",
       "      <th>Step</th>\n",
       "      <th>Training Loss</th>\n",
       "    </tr>\n",
       "  </thead>\n",
       "  <tbody>\n",
       "    <tr>\n",
       "      <td>500</td>\n",
       "      <td>0.753600</td>\n",
       "    </tr>\n",
       "    <tr>\n",
       "      <td>1000</td>\n",
       "      <td>0.535500</td>\n",
       "    </tr>\n",
       "    <tr>\n",
       "      <td>1500</td>\n",
       "      <td>0.412300</td>\n",
       "    </tr>\n",
       "  </tbody>\n",
       "</table><p>"
      ]
     },
     "metadata": {},
     "output_type": "display_data"
    },
    {
     "data": {
      "text/plain": [
       "TrainOutput(global_step=1532, training_loss=0.5632653927367287, metrics={'train_runtime': 507.2401, 'train_samples_per_second': 30.14, 'train_steps_per_second': 3.02, 'total_flos': 4022730741399552.0, 'train_loss': 0.5632653927367287, 'epoch': 4.0})"
      ]
     },
     "execution_count": 45,
     "metadata": {},
     "output_type": "execute_result"
    }
   ],
   "execution_count": 45
  },
  {
   "metadata": {},
   "cell_type": "code",
   "outputs": [],
   "execution_count": null,
   "source": "trainer.save_model(\"./models/WeightedLoss-UkrRoberta-512-full-data-not-tuned-thresholds\")"
  },
  {
   "metadata": {},
   "cell_type": "markdown",
   "source": "## Load test dataset"
  },
  {
   "metadata": {},
   "cell_type": "code",
   "source": [
    "test_df = pd.read_csv(\"./data/test.csv\")\n",
    "test_df"
   ],
   "outputs": [],
   "execution_count": null
  },
  {
   "metadata": {},
   "cell_type": "markdown",
   "source": "## Preprocess"
  },
  {
   "metadata": {},
   "cell_type": "code",
   "source": [
    "# Apply cleaning to the 'content' column and create a new column 'clean_content'\n",
    "test_df['clean_content'] = test_df['content'].apply(clean_text)\n",
    "test_df"
   ],
   "outputs": [],
   "execution_count": null
  },
  {
   "metadata": {
    "ExecuteTime": {
     "end_time": "2025-03-29T15:09:50.085623Z",
     "start_time": "2025-03-29T15:09:44.039886Z"
    }
   },
   "cell_type": "code",
   "source": [
    "# Load the tokenizer (using the chosen Ukrainian model)\n",
    "tokenizer = AutoTokenizer.from_pretrained(model_name)\n",
    "\n",
    "# A preprocessing function for our texts\n",
    "def preprocess_classification_test(example):\n",
    "    # Tokenize the 'clean_content'; adjust max_length as needed.\n",
    "    encoding = tokenizer(example['clean_content'], truncation=True, padding=\"max_length\", max_length=max_tokens_length)\n",
    "    return encoding\n",
    "test_dataset = Dataset.from_pandas(test_df[['clean_content']])\n",
    "test_dataset = test_dataset.map(preprocess_classification_test, batched=False)\n",
    "\n",
    "test_dataset.set_format(type=\"torch\", columns=[\"input_ids\", \"attention_mask\"])\n",
    "test_dataset"
   ],
   "outputs": [
    {
     "data": {
      "text/plain": [
       "Map:   0%|          | 0/5735 [00:00<?, ? examples/s]"
      ],
      "application/vnd.jupyter.widget-view+json": {
       "version_major": 2,
       "version_minor": 0,
       "model_id": "1ab146e3b21c4be2be739fac96fc64df"
      }
     },
     "metadata": {},
     "output_type": "display_data"
    },
    {
     "data": {
      "text/plain": [
       "Dataset({\n",
       "    features: ['clean_content', 'input_ids', 'attention_mask'],\n",
       "    num_rows: 5735\n",
       "})"
      ]
     },
     "execution_count": 61,
     "metadata": {},
     "output_type": "execute_result"
    }
   ],
   "execution_count": 61
  },
  {
   "metadata": {
    "ExecuteTime": {
     "end_time": "2025-03-29T15:12:20.714687Z",
     "start_time": "2025-03-29T15:11:32.821411Z"
    }
   },
   "cell_type": "code",
   "source": "predictions = trainer.predict(test_dataset)",
   "outputs": [
    {
     "data": {
      "text/plain": [
       "<IPython.core.display.HTML object>"
      ],
      "text/html": []
     },
     "metadata": {},
     "output_type": "display_data"
    }
   ],
   "execution_count": 67
  },
  {
   "metadata": {},
   "cell_type": "code",
   "outputs": [],
   "execution_count": null,
   "source": "use_best_threshold = False"
  },
  {
   "metadata": {},
   "cell_type": "code",
   "source": [
    "# predictions.predictions is an array of logits.\n",
    "# Convert logits to probabilities, then threshold to get binary predictions.\n",
    "if not use_best_threshold:\n",
    "    print(\"No best thresholds using.\")\n",
    "    preds = (torch.sigmoid(torch.tensor(predictions.predictions)) > 0.5).int().numpy()\n",
    "else:\n",
    "    pred_probs = torch.sigmoid(torch.tensor(predictions.predictions)).numpy()\n",
    "    preds = np.zeros_like(pred_probs, dtype=int)\n",
    "    for i, threshold in enumerate(best_thresholds):\n",
    "        preds[:, i] = (pred_probs[:, i] > threshold).astype(int)\n",
    "\n",
    "# Create a list mapping predicted binary vectors to label names.\n",
    "predicted_labels_list = []\n",
    "for sample_pred in preds:\n",
    "    sample_labels = [id2label[i] for i, flag in enumerate(sample_pred) if flag == 1]\n",
    "    predicted_labels_list.append(sample_labels)\n",
    "\n",
    "predicted_labels_list\n"
   ],
   "outputs": [],
   "execution_count": null
  },
  {
   "metadata": {
    "ExecuteTime": {
     "end_time": "2025-03-29T15:12:21.273053Z",
     "start_time": "2025-03-29T15:12:21.048199Z"
    }
   },
   "cell_type": "code",
   "source": "test_df['techniques'] = predicted_labels_list",
   "outputs": [],
   "execution_count": 69
  },
  {
   "metadata": {},
   "cell_type": "code",
   "source": [
    "\n",
    "for tech in technique_list:\n",
    "    test_df[tech] = test_df['techniques'].apply(lambda x: 1 if tech in x else 0)\n",
    "test_df"
   ],
   "outputs": [],
   "execution_count": null
  },
  {
   "metadata": {
    "ExecuteTime": {
     "end_time": "2025-03-29T15:12:21.941217Z",
     "start_time": "2025-03-29T15:12:21.656783Z"
    }
   },
   "cell_type": "code",
   "source": [
    "columns_sorted = ['id','straw_man','appeal_to_fear','fud','bandwagon','whataboutism','loaded_language','glittering_generalities','euphoria','cherry_picking','cliche']\n",
    "test_df[columns_sorted].to_csv('results/WeightedLoss-UkrRoberta-512-full-data-not-tuned-thresholds.csv', index=False)"
   ],
   "outputs": [],
   "execution_count": 71
  },
  {
   "metadata": {},
   "cell_type": "markdown",
   "source": "# Clean cache"
  },
  {
   "metadata": {
    "ExecuteTime": {
     "end_time": "2025-03-29T14:46:16.769742Z",
     "start_time": "2025-03-29T14:46:16.530725Z"
    }
   },
   "cell_type": "code",
   "source": "torch.cuda.empty_cache()",
   "outputs": [],
   "execution_count": 42
  }
 ]
}
